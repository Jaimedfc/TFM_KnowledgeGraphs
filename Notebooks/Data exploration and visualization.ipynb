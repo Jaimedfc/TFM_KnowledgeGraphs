{
 "cells": [
  {
   "cell_type": "markdown",
   "metadata": {},
   "source": [
    "In this workshop we are goin to work with the dataset of the UPM researchers and their publications. This dataset is composed by two files: a json and a csv. These files are an extended versión of the csv that we used in the web application workshops.\n",
    "\n",
    "Our goal is obtain as much information as we can from this dataset. We will achieve this in two ways: we will answer questions with numeric values (e.g. what is the average number publications of an UPM reaearcher? or, how many citations have the reseachers, suming all their publications?) or we will generate some charts to present information in a visual way (e.g. how is the relation between the publication year of a paper and its number of citations? or, how is the histogram of the number of publications by researcher?)"
   ]
  },
  {
   "cell_type": "code",
   "execution_count": 42,
   "metadata": {},
   "outputs": [],
   "source": [
    "import pandas as pd\n",
    "import matplotlib.pyplot as plt\n",
    "import numpy\n",
    "#Faltan S1 y S12"
   ]
  },
  {
   "cell_type": "markdown",
   "metadata": {},
   "source": [
    "# SUJETO 2"
   ]
  },
  {
   "cell_type": "code",
   "execution_count": 43,
   "metadata": {},
   "outputs": [],
   "source": [
    "datasetS2 = pd.read_pickle(\"/media/jaime/tocho/Universidad/Master/TFM/WESAD/S2/S2.pkl\")"
   ]
  },
  {
   "cell_type": "code",
   "execution_count": 44,
   "metadata": {},
   "outputs": [],
   "source": [
    "emgS2 = datasetS2[\"signal\"][\"chest\"][\"EMG\"]\n",
    "emgDatasetS2=pd.DataFrame(emgS2,columns=[\"EMG\"])\n",
    "ecgS2 = datasetS2[\"signal\"][\"chest\"][\"ECG\"]\n",
    "ecgDatasetS2=pd.DataFrame(ecgS2,columns=[\"ECG\"])\n",
    "tempS2 = datasetS2[\"signal\"][\"chest\"][\"Temp\"]\n",
    "tempDatasetS2=pd.DataFrame(tempS2,columns=[\"TEMP\"])\n",
    "edaS2 = datasetS2[\"signal\"][\"chest\"][\"EDA\"]\n",
    "edaDatasetS2=pd.DataFrame(edaS2,columns=[\"EDA\"])\n",
    "respS2 = datasetS2[\"signal\"][\"chest\"][\"Resp\"]\n",
    "respDatasetS2=pd.DataFrame(respS2,columns=[\"RESP\"])\n",
    "labelS2 = datasetS2[\"label\"]\n",
    "labelDatasetS2=pd.DataFrame(labelS2,columns=[\"label\"])\n",
    "dataChestS2=pd.concat([ecgDatasetS2, emgDatasetS2, edaDatasetS2, tempDatasetS2, respDatasetS2, labelDatasetS2], axis=1)"
   ]
  },
  {
   "cell_type": "code",
   "execution_count": 45,
   "metadata": {},
   "outputs": [
    {
     "data": {
      "text/plain": [
       "<matplotlib.axes._subplots.AxesSubplot at 0x7f7b357464e0>"
      ]
     },
     "execution_count": 45,
     "metadata": {},
     "output_type": "execute_result"
    },
    {
     "data": {
      "image/png": "[encoded data removed]",
      "text/plain": [
       "<Figure size 432x288 with 1 Axes>"
      ]
     },
     "metadata": {
      "needs_background": "light"
     },
     "output_type": "display_data"
    }
   ],
   "source": [
    "dataChestS2.groupby(dataChestS2['label'])[\"ECG\"].count().plot.bar()\n",
    "#Delete 0,5,6,7"
   ]
  },
  {
   "cell_type": "code",
   "execution_count": 46,
   "metadata": {},
   "outputs": [],
   "source": [
    "dataChestCleanS2 = dataChestS2.loc[dataChestS2[\"label\"]>0]\n",
    "dataChestCleanS2 = dataChestCleanS2.loc[dataChestCleanS2[\"label\"]<5]\n",
    "# 1 -> baseline\n",
    "# 2 -> stress\n",
    "# 3 -> amusement\n",
    "# 4 -> meditation"
   ]
  },
  {
   "cell_type": "code",
   "execution_count": 47,
   "metadata": {},
   "outputs": [
    {
     "data": {
      "text/plain": [
       "<matplotlib.axes._subplots.AxesSubplot at 0x7f7b331b0240>"
      ]
     },
     "execution_count": 47,
     "metadata": {},
     "output_type": "execute_result"
    },
    {
     "data": {
      "image/png": "[encoded data removed]",
      "text/plain": [
       "<Figure size 432x288 with 1 Axes>"
      ]
     },
     "metadata": {
      "needs_background": "light"
     },
     "output_type": "display_data"
    }
   ],
   "source": [
    "dataChestCleanS2.groupby(dataChestS2['label'])[\"ECG\"].count().plot.bar()"
   ]
  },
  {
   "cell_type": "markdown",
   "metadata": {},
   "source": [
    "# SUJETO 3"
   ]
  },
  {
   "cell_type": "code",
   "execution_count": 48,
   "metadata": {},
   "outputs": [],
   "source": [
    "datasetS3 = pd.read_pickle(\"/media/jaime/tocho/Universidad/Master/TFM/WESAD/S3/S3.pkl\")"
   ]
  },
  {
   "cell_type": "code",
   "execution_count": 49,
   "metadata": {},
   "outputs": [],
   "source": [
    "emgS3 = datasetS3[\"signal\"][\"chest\"][\"EMG\"]\n",
    "emgDatasetS3=pd.DataFrame(emgS3,columns=[\"EMG\"])\n",
    "ecgS3 = datasetS3[\"signal\"][\"chest\"][\"ECG\"]\n",
    "ecgDatasetS3=pd.DataFrame(ecgS3,columns=[\"ECG\"])\n",
    "tempS3 = datasetS3[\"signal\"][\"chest\"][\"Temp\"]\n",
    "tempDatasetS3=pd.DataFrame(tempS3,columns=[\"TEMP\"])\n",
    "edaS3 = datasetS3[\"signal\"][\"chest\"][\"EDA\"]\n",
    "edaDatasetS3=pd.DataFrame(edaS3,columns=[\"EDA\"])\n",
    "respS3 = datasetS3[\"signal\"][\"chest\"][\"Resp\"]\n",
    "respDatasetS3=pd.DataFrame(respS3,columns=[\"RESP\"])\n",
    "labelS3 = datasetS3[\"label\"]\n",
    "labelDatasetS3=pd.DataFrame(labelS3,columns=[\"label\"])\n",
    "dataChestS3=pd.concat([ecgDatasetS3, emgDatasetS3, edaDatasetS3, tempDatasetS3, respDatasetS3, labelDatasetS3], axis=1)"
   ]
  },
  {
   "cell_type": "code",
   "execution_count": 50,
   "metadata": {},
   "outputs": [],
   "source": [
    "dataChestCleanS3 = dataChestS3.loc[dataChestS3[\"label\"]>0]\n",
    "dataChestCleanS3 = dataChestCleanS3.loc[dataChestCleanS3[\"label\"]<5]"
   ]
  },
  {
   "cell_type": "markdown",
   "metadata": {},
   "source": [
    "# SUJETO 4"
   ]
  },
  {
   "cell_type": "code",
   "execution_count": 51,
   "metadata": {},
   "outputs": [],
   "source": [
    "datasetS4 = pd.read_pickle(\"/media/jaime/tocho/Universidad/Master/TFM/WESAD/S4/S4.pkl\")"
   ]
  },
  {
   "cell_type": "code",
   "execution_count": 52,
   "metadata": {},
   "outputs": [],
   "source": [
    "emgS4 = datasetS4[\"signal\"][\"chest\"][\"EMG\"]\n",
    "emgDatasetS4=pd.DataFrame(emgS4,columns=[\"EMG\"])\n",
    "ecgS4 = datasetS4[\"signal\"][\"chest\"][\"ECG\"]\n",
    "ecgDatasetS4=pd.DataFrame(ecgS4,columns=[\"ECG\"])\n",
    "tempS4 = datasetS4[\"signal\"][\"chest\"][\"Temp\"]\n",
    "tempDatasetS4=pd.DataFrame(tempS4,columns=[\"TEMP\"])\n",
    "edaS4 = datasetS4[\"signal\"][\"chest\"][\"EDA\"]\n",
    "edaDatasetS4=pd.DataFrame(edaS4,columns=[\"EDA\"])\n",
    "respS4 = datasetS4[\"signal\"][\"chest\"][\"Resp\"]\n",
    "respDatasetS4=pd.DataFrame(respS4,columns=[\"RESP\"])\n",
    "labelS4 = datasetS4[\"label\"]\n",
    "labelDatasetS4=pd.DataFrame(labelS4,columns=[\"label\"])\n",
    "dataChestS4=pd.concat([ecgDatasetS4, emgDatasetS4, edaDatasetS4, tempDatasetS4, respDatasetS4, labelDatasetS4], axis=1)"
   ]
  },
  {
   "cell_type": "code",
   "execution_count": 53,
   "metadata": {},
   "outputs": [],
   "source": [
    "dataChestCleanS4 = dataChestS4.loc[dataChestS4[\"label\"]>0]\n",
    "dataChestCleanS4 = dataChestCleanS4.loc[dataChestCleanS4[\"label\"]<5]"
   ]
  },
  {
   "cell_type": "markdown",
   "metadata": {},
   "source": [
    "# SUJETO 5"
   ]
  },
  {
   "cell_type": "code",
   "execution_count": 54,
   "metadata": {},
   "outputs": [],
   "source": [
    "datasetS5 = pd.read_pickle(\"/media/jaime/tocho/Universidad/Master/TFM/WESAD/S5/S5.pkl\")"
   ]
  },
  {
   "cell_type": "code",
   "execution_count": 55,
   "metadata": {},
   "outputs": [],
   "source": [
    "emgS5 = datasetS5[\"signal\"][\"chest\"][\"EMG\"]\n",
    "emgDatasetS5=pd.DataFrame(emgS5,columns=[\"EMG\"])\n",
    "ecgS5 = datasetS5[\"signal\"][\"chest\"][\"ECG\"]\n",
    "ecgDatasetS5=pd.DataFrame(ecgS5,columns=[\"ECG\"])\n",
    "tempS5 = datasetS5[\"signal\"][\"chest\"][\"Temp\"]\n",
    "tempDatasetS5=pd.DataFrame(tempS5,columns=[\"TEMP\"])\n",
    "edaS5 = datasetS5[\"signal\"][\"chest\"][\"EDA\"]\n",
    "edaDatasetS5=pd.DataFrame(edaS5,columns=[\"EDA\"])\n",
    "respS5 = datasetS5[\"signal\"][\"chest\"][\"Resp\"]\n",
    "respDatasetS5=pd.DataFrame(respS5,columns=[\"RESP\"])\n",
    "labelS5 = datasetS5[\"label\"]\n",
    "labelDatasetS5=pd.DataFrame(labelS5,columns=[\"label\"])\n",
    "dataChestS5=pd.concat([ecgDatasetS5, emgDatasetS5, edaDatasetS5, tempDatasetS5, respDatasetS5, labelDatasetS5], axis=1)"
   ]
  },
  {
   "cell_type": "code",
   "execution_count": 56,
   "metadata": {},
   "outputs": [],
   "source": [
    "dataChestCleanS5 = dataChestS5.loc[dataChestS5[\"label\"]>0]\n",
    "dataChestCleanS5 = dataChestCleanS5.loc[dataChestCleanS5[\"label\"]<5]"
   ]
  },
  {
   "cell_type": "markdown",
   "metadata": {},
   "source": [
    "# SUJETO 6"
   ]
  },
  {
   "cell_type": "code",
   "execution_count": 57,
   "metadata": {},
   "outputs": [],
   "source": [
    "datasetS6 = pd.read_pickle(\"/media/jaime/tocho/Universidad/Master/TFM/WESAD/S6/S6.pkl\")"
   ]
  },
  {
   "cell_type": "code",
   "execution_count": 58,
   "metadata": {},
   "outputs": [],
   "source": [
    "emgS6 = datasetS6[\"signal\"][\"chest\"][\"EMG\"]\n",
    "emgDatasetS6=pd.DataFrame(emgS6,columns=[\"EMG\"])\n",
    "ecgS6 = datasetS6[\"signal\"][\"chest\"][\"ECG\"]\n",
    "ecgDatasetS6=pd.DataFrame(ecgS6,columns=[\"ECG\"])\n",
    "tempS6 = datasetS6[\"signal\"][\"chest\"][\"Temp\"]\n",
    "tempDatasetS6=pd.DataFrame(tempS6,columns=[\"TEMP\"])\n",
    "edaS6 = datasetS6[\"signal\"][\"chest\"][\"EDA\"]\n",
    "edaDatasetS6=pd.DataFrame(edaS6,columns=[\"EDA\"])\n",
    "respS6 = datasetS6[\"signal\"][\"chest\"][\"Resp\"]\n",
    "respDatasetS6=pd.DataFrame(respS6,columns=[\"RESP\"])\n",
    "labelS6 = datasetS6[\"label\"]\n",
    "labelDatasetS6=pd.DataFrame(labelS6,columns=[\"label\"])\n",
    "dataChestS6=pd.concat([ecgDatasetS6, emgDatasetS6, edaDatasetS6, tempDatasetS6, respDatasetS6, labelDatasetS6], axis=1)"
   ]
  },
  {
   "cell_type": "code",
   "execution_count": 59,
   "metadata": {},
   "outputs": [],
   "source": [
    "dataChestCleanS6 = dataChestS6.loc[dataChestS6[\"label\"]>0]\n",
    "dataChestCleanS6 = dataChestCleanS6.loc[dataChestCleanS6[\"label\"]<5]"
   ]
  },
  {
   "cell_type": "markdown",
   "metadata": {},
   "source": [
    "# SUJETO 7"
   ]
  },
  {
   "cell_type": "code",
   "execution_count": 60,
   "metadata": {},
   "outputs": [],
   "source": [
    "datasetS7 = pd.read_pickle(\"/media/jaime/tocho/Universidad/Master/TFM/WESAD/S7/S7.pkl\")"
   ]
  },
  {
   "cell_type": "code",
   "execution_count": 61,
   "metadata": {},
   "outputs": [],
   "source": [
    "emgS7 = datasetS7[\"signal\"][\"chest\"][\"EMG\"]\n",
    "emgDatasetS7=pd.DataFrame(emgS7,columns=[\"EMG\"])\n",
    "ecgS7 = datasetS7[\"signal\"][\"chest\"][\"ECG\"]\n",
    "ecgDatasetS7=pd.DataFrame(ecgS7,columns=[\"ECG\"])\n",
    "tempS7 = datasetS7[\"signal\"][\"chest\"][\"Temp\"]\n",
    "tempDatasetS7=pd.DataFrame(tempS7,columns=[\"TEMP\"])\n",
    "edaS7 = datasetS7[\"signal\"][\"chest\"][\"EDA\"]\n",
    "edaDatasetS7=pd.DataFrame(edaS7,columns=[\"EDA\"])\n",
    "respS7 = datasetS7[\"signal\"][\"chest\"][\"Resp\"]\n",
    "respDatasetS7=pd.DataFrame(respS7,columns=[\"RESP\"])\n",
    "labelS7 = datasetS7[\"label\"]\n",
    "labelDatasetS7=pd.DataFrame(labelS7,columns=[\"label\"])\n",
    "dataChestS7=pd.concat([ecgDatasetS7, emgDatasetS7, edaDatasetS7, tempDatasetS7, respDatasetS7, labelDatasetS7], axis=1)"
   ]
  },
  {
   "cell_type": "code",
   "execution_count": 62,
   "metadata": {},
   "outputs": [],
   "source": [
    "dataChestCleanS7 = dataChestS7.loc[dataChestS7[\"label\"]>0]\n",
    "dataChestCleanS7 = dataChestCleanS7.loc[dataChestCleanS7[\"label\"]<5]"
   ]
  },
  {
   "cell_type": "markdown",
   "metadata": {},
   "source": [
    "# SUJETO 8"
   ]
  },
  {
   "cell_type": "code",
   "execution_count": 63,
   "metadata": {},
   "outputs": [],
   "source": [
    "datasetS8 = pd.read_pickle(\"/media/jaime/tocho/Universidad/Master/TFM/WESAD/S8/S8.pkl\")"
   ]
  },
  {
   "cell_type": "code",
   "execution_count": 64,
   "metadata": {},
   "outputs": [],
   "source": [
    "emgS8 = datasetS8[\"signal\"][\"chest\"][\"EMG\"]\n",
    "emgDatasetS8=pd.DataFrame(emgS8,columns=[\"EMG\"])\n",
    "ecgS8 = datasetS8[\"signal\"][\"chest\"][\"ECG\"]\n",
    "ecgDatasetS8=pd.DataFrame(ecgS8,columns=[\"ECG\"])\n",
    "tempS8 = datasetS8[\"signal\"][\"chest\"][\"Temp\"]\n",
    "tempDatasetS8=pd.DataFrame(tempS8,columns=[\"TEMP\"])\n",
    "edaS8 = datasetS8[\"signal\"][\"chest\"][\"EDA\"]\n",
    "edaDatasetS8=pd.DataFrame(edaS8,columns=[\"EDA\"])\n",
    "respS8 = datasetS8[\"signal\"][\"chest\"][\"Resp\"]\n",
    "respDatasetS8=pd.DataFrame(respS8,columns=[\"RESP\"])\n",
    "labelS8 = datasetS8[\"label\"]\n",
    "labelDatasetS8=pd.DataFrame(labelS8,columns=[\"label\"])\n",
    "dataChestS8=pd.concat([ecgDatasetS8, emgDatasetS8, edaDatasetS8, tempDatasetS8, respDatasetS8, labelDatasetS8], axis=1)"
   ]
  },
  {
   "cell_type": "code",
   "execution_count": 65,
   "metadata": {},
   "outputs": [],
   "source": [
    "dataChestCleanS8 = dataChestS8.loc[dataChestS8[\"label\"]>0]\n",
    "dataChestCleanS8 = dataChestCleanS8.loc[dataChestCleanS8[\"label\"]<5]"
   ]
  },
  {
   "cell_type": "markdown",
   "metadata": {},
   "source": [
    "# SUJETO 9"
   ]
  },
  {
   "cell_type": "code",
   "execution_count": 66,
   "metadata": {},
   "outputs": [],
   "source": [
    "datasetS9 = pd.read_pickle(\"/media/jaime/tocho/Universidad/Master/TFM/WESAD/S9/S9.pkl\")"
   ]
  },
  {
   "cell_type": "code",
   "execution_count": 67,
   "metadata": {},
   "outputs": [],
   "source": [
    "emgS9 = datasetS9[\"signal\"][\"chest\"][\"EMG\"]\n",
    "emgDatasetS9=pd.DataFrame(emgS9,columns=[\"EMG\"])\n",
    "ecgS9 = datasetS9[\"signal\"][\"chest\"][\"ECG\"]\n",
    "ecgDatasetS9=pd.DataFrame(ecgS9,columns=[\"ECG\"])\n",
    "tempS9 = datasetS9[\"signal\"][\"chest\"][\"Temp\"]\n",
    "tempDatasetS9=pd.DataFrame(tempS9,columns=[\"TEMP\"])\n",
    "edaS9 = datasetS9[\"signal\"][\"chest\"][\"EDA\"]\n",
    "edaDatasetS9=pd.DataFrame(edaS9,columns=[\"EDA\"])\n",
    "respS9 = datasetS9[\"signal\"][\"chest\"][\"Resp\"]\n",
    "respDatasetS9=pd.DataFrame(respS9,columns=[\"RESP\"])\n",
    "labelS9 = datasetS9[\"label\"]\n",
    "labelDatasetS9=pd.DataFrame(labelS9,columns=[\"label\"])\n",
    "dataChestS9=pd.concat([ecgDatasetS9, emgDatasetS9, edaDatasetS9, tempDatasetS9, respDatasetS9, labelDatasetS9], axis=1)"
   ]
  },
  {
   "cell_type": "code",
   "execution_count": 68,
   "metadata": {},
   "outputs": [],
   "source": [
    "dataChestCleanS9 = dataChestS9.loc[dataChestS9[\"label\"]>0]\n",
    "dataChestCleanS9 = dataChestCleanS9.loc[dataChestCleanS9[\"label\"]<5]"
   ]
  },
  {
   "cell_type": "markdown",
   "metadata": {},
   "source": [
    "# SUJETO 10"
   ]
  },
  {
   "cell_type": "code",
   "execution_count": 69,
   "metadata": {},
   "outputs": [],
   "source": [
    "datasetS10 = pd.read_pickle(\"/media/jaime/tocho/Universidad/Master/TFM/WESAD/S10/S10.pkl\")"
   ]
  },
  {
   "cell_type": "code",
   "execution_count": 70,
   "metadata": {},
   "outputs": [],
   "source": [
    "emgS10 = datasetS10[\"signal\"][\"chest\"][\"EMG\"]\n",
    "emgDatasetS10=pd.DataFrame(emgS10,columns=[\"EMG\"])\n",
    "ecgS10 = datasetS10[\"signal\"][\"chest\"][\"ECG\"]\n",
    "ecgDatasetS10=pd.DataFrame(ecgS10,columns=[\"ECG\"])\n",
    "tempS10 = datasetS10[\"signal\"][\"chest\"][\"Temp\"]\n",
    "tempDatasetS10=pd.DataFrame(tempS10,columns=[\"TEMP\"])\n",
    "edaS10 = datasetS10[\"signal\"][\"chest\"][\"EDA\"]\n",
    "edaDatasetS10=pd.DataFrame(edaS10,columns=[\"EDA\"])\n",
    "respS10 = datasetS10[\"signal\"][\"chest\"][\"Resp\"]\n",
    "respDatasetS10=pd.DataFrame(respS10,columns=[\"RESP\"])\n",
    "labelS10 = datasetS10[\"label\"]\n",
    "labelDatasetS10=pd.DataFrame(labelS10,columns=[\"label\"])\n",
    "dataChestS10=pd.concat([ecgDatasetS10, emgDatasetS10, edaDatasetS10, tempDatasetS10, respDatasetS10, labelDatasetS10], axis=1)"
   ]
  },
  {
   "cell_type": "code",
   "execution_count": 71,
   "metadata": {},
   "outputs": [],
   "source": [
    "dataChestCleanS10 = dataChestS10.loc[dataChestS10[\"label\"]>0]\n",
    "dataChestCleanS10 = dataChestCleanS10.loc[dataChestCleanS10[\"label\"]<5]"
   ]
  },
  {
   "cell_type": "markdown",
   "metadata": {},
   "source": [
    "# SUJETO 11"
   ]
  },
  {
   "cell_type": "code",
   "execution_count": 72,
   "metadata": {},
   "outputs": [],
   "source": [
    "datasetS11 = pd.read_pickle(\"/media/jaime/tocho/Universidad/Master/TFM/WESAD/S11/S11.pkl\")"
   ]
  },
  {
   "cell_type": "code",
   "execution_count": 73,
   "metadata": {},
   "outputs": [],
   "source": [
    "emgS11 = datasetS11[\"signal\"][\"chest\"][\"EMG\"]\n",
    "emgDatasetS11=pd.DataFrame(emgS11,columns=[\"EMG\"])\n",
    "ecgS11 = datasetS11[\"signal\"][\"chest\"][\"ECG\"]\n",
    "ecgDatasetS11=pd.DataFrame(ecgS11,columns=[\"ECG\"])\n",
    "tempS11 = datasetS11[\"signal\"][\"chest\"][\"Temp\"]\n",
    "tempDatasetS11=pd.DataFrame(tempS11,columns=[\"TEMP\"])\n",
    "edaS11 = datasetS11[\"signal\"][\"chest\"][\"EDA\"]\n",
    "edaDatasetS11=pd.DataFrame(edaS11,columns=[\"EDA\"])\n",
    "respS11 = datasetS11[\"signal\"][\"chest\"][\"Resp\"]\n",
    "respDatasetS11=pd.DataFrame(respS11,columns=[\"RESP\"])\n",
    "labelS11 = datasetS11[\"label\"]\n",
    "labelDatasetS11=pd.DataFrame(labelS11,columns=[\"label\"])\n",
    "dataChestS11=pd.concat([ecgDatasetS11, emgDatasetS11, edaDatasetS11, tempDatasetS11, respDatasetS11, labelDatasetS11], axis=1)"
   ]
  },
  {
   "cell_type": "code",
   "execution_count": 74,
   "metadata": {},
   "outputs": [],
   "source": [
    "dataChestCleanS11 = dataChestS11.loc[dataChestS11[\"label\"]>0]\n",
    "dataChestCleanS11 = dataChestCleanS11.loc[dataChestCleanS11[\"label\"]<5]"
   ]
  },
  {
   "cell_type": "markdown",
   "metadata": {},
   "source": [
    "# SUJETO 13"
   ]
  },
  {
   "cell_type": "code",
   "execution_count": 75,
   "metadata": {},
   "outputs": [],
   "source": [
    "datasetS13 = pd.read_pickle(\"/media/jaime/tocho/Universidad/Master/TFM/WESAD/S13/S13.pkl\")"
   ]
  },
  {
   "cell_type": "code",
   "execution_count": 76,
   "metadata": {},
   "outputs": [],
   "source": [
    "emgS13 = datasetS13[\"signal\"][\"chest\"][\"EMG\"]\n",
    "emgDatasetS13=pd.DataFrame(emgS13,columns=[\"EMG\"])\n",
    "ecgS13 = datasetS13[\"signal\"][\"chest\"][\"ECG\"]\n",
    "ecgDatasetS13=pd.DataFrame(ecgS13,columns=[\"ECG\"])\n",
    "tempS13 = datasetS13[\"signal\"][\"chest\"][\"Temp\"]\n",
    "tempDatasetS13=pd.DataFrame(tempS13,columns=[\"TEMP\"])\n",
    "edaS13 = datasetS13[\"signal\"][\"chest\"][\"EDA\"]\n",
    "edaDatasetS13=pd.DataFrame(edaS13,columns=[\"EDA\"])\n",
    "respS13 = datasetS13[\"signal\"][\"chest\"][\"Resp\"]\n",
    "respDatasetS13=pd.DataFrame(respS13,columns=[\"RESP\"])\n",
    "labelS13 = datasetS13[\"label\"]\n",
    "labelDatasetS13=pd.DataFrame(labelS13,columns=[\"label\"])\n",
    "dataChestS13=pd.concat([ecgDatasetS13, emgDatasetS13, edaDatasetS13, tempDatasetS13, respDatasetS13, labelDatasetS13], axis=1)"
   ]
  },
  {
   "cell_type": "code",
   "execution_count": 77,
   "metadata": {},
   "outputs": [],
   "source": [
    "dataChestCleanS13 = dataChestS13.loc[dataChestS13[\"label\"]>0]\n",
    "dataChestCleanS13 = dataChestCleanS13.loc[dataChestCleanS13[\"label\"]<5]"
   ]
  },
  {
   "cell_type": "markdown",
   "metadata": {},
   "source": [
    "# SUJETO 14"
   ]
  },
  {
   "cell_type": "code",
   "execution_count": 78,
   "metadata": {},
   "outputs": [],
   "source": [
    "datasetS14 = pd.read_pickle(\"/media/jaime/tocho/Universidad/Master/TFM/WESAD/S14/S14.pkl\")"
   ]
  },
  {
   "cell_type": "code",
   "execution_count": 79,
   "metadata": {},
   "outputs": [],
   "source": [
    "emgS14 = datasetS14[\"signal\"][\"chest\"][\"EMG\"]\n",
    "emgDatasetS14=pd.DataFrame(emgS14,columns=[\"EMG\"])\n",
    "ecgS14 = datasetS14[\"signal\"][\"chest\"][\"ECG\"]\n",
    "ecgDatasetS14=pd.DataFrame(ecgS14,columns=[\"ECG\"])\n",
    "tempS14 = datasetS14[\"signal\"][\"chest\"][\"Temp\"]\n",
    "tempDatasetS14=pd.DataFrame(tempS14,columns=[\"TEMP\"])\n",
    "edaS14 = datasetS14[\"signal\"][\"chest\"][\"EDA\"]\n",
    "edaDatasetS14=pd.DataFrame(edaS14,columns=[\"EDA\"])\n",
    "respS14 = datasetS14[\"signal\"][\"chest\"][\"Resp\"]\n",
    "respDatasetS14=pd.DataFrame(respS14,columns=[\"RESP\"])\n",
    "labelS14 = datasetS14[\"label\"]\n",
    "labelDatasetS14=pd.DataFrame(labelS14,columns=[\"label\"])\n",
    "dataChestS14=pd.concat([ecgDatasetS14, emgDatasetS14, edaDatasetS14, tempDatasetS14, respDatasetS14, labelDatasetS14], axis=1)"
   ]
  },
  {
   "cell_type": "code",
   "execution_count": 80,
   "metadata": {},
   "outputs": [],
   "source": [
    "dataChestCleanS14 = dataChestS14.loc[dataChestS14[\"label\"]>0]\n",
    "dataChestCleanS14 = dataChestCleanS14.loc[dataChestCleanS14[\"label\"]<5]"
   ]
  },
  {
   "cell_type": "markdown",
   "metadata": {},
   "source": [
    "# SUJETO 15"
   ]
  },
  {
   "cell_type": "code",
   "execution_count": 81,
   "metadata": {},
   "outputs": [],
   "source": [
    "datasetS15 = pd.read_pickle(\"/media/jaime/tocho/Universidad/Master/TFM/WESAD/S15/S15.pkl\")"
   ]
  },
  {
   "cell_type": "code",
   "execution_count": 82,
   "metadata": {},
   "outputs": [],
   "source": [
    "emgS15 = datasetS15[\"signal\"][\"chest\"][\"EMG\"]\n",
    "emgDatasetS15=pd.DataFrame(emgS15,columns=[\"EMG\"])\n",
    "ecgS15 = datasetS15[\"signal\"][\"chest\"][\"ECG\"]\n",
    "ecgDatasetS15=pd.DataFrame(ecgS15,columns=[\"ECG\"])\n",
    "tempS15 = datasetS15[\"signal\"][\"chest\"][\"Temp\"]\n",
    "tempDatasetS15=pd.DataFrame(tempS15,columns=[\"TEMP\"])\n",
    "edaS15 = datasetS15[\"signal\"][\"chest\"][\"EDA\"]\n",
    "edaDatasetS15=pd.DataFrame(edaS15,columns=[\"EDA\"])\n",
    "respS15 = datasetS15[\"signal\"][\"chest\"][\"Resp\"]\n",
    "respDatasetS15=pd.DataFrame(respS15,columns=[\"RESP\"])\n",
    "labelS15 = datasetS15[\"label\"]\n",
    "labelDatasetS15=pd.DataFrame(labelS15,columns=[\"label\"])\n",
    "dataChestS15=pd.concat([ecgDatasetS15, emgDatasetS15, edaDatasetS15, tempDatasetS15, respDatasetS15, labelDatasetS15], axis=1)"
   ]
  },
  {
   "cell_type": "code",
   "execution_count": 83,
   "metadata": {},
   "outputs": [],
   "source": [
    "dataChestCleanS15 = dataChestS15.loc[dataChestS15[\"label\"]>0]\n",
    "dataChestCleanS15 = dataChestCleanS15.loc[dataChestCleanS15[\"label\"]<5]"
   ]
  },
  {
   "cell_type": "markdown",
   "metadata": {},
   "source": [
    "# SUJETO 16"
   ]
  },
  {
   "cell_type": "code",
   "execution_count": 84,
   "metadata": {},
   "outputs": [],
   "source": [
    "datasetS16 = pd.read_pickle(\"/media/jaime/tocho/Universidad/Master/TFM/WESAD/S16/S16.pkl\")"
   ]
  },
  {
   "cell_type": "code",
   "execution_count": 85,
   "metadata": {},
   "outputs": [],
   "source": [
    "emgS16 = datasetS16[\"signal\"][\"chest\"][\"EMG\"]\n",
    "emgDatasetS16=pd.DataFrame(emgS16,columns=[\"EMG\"])\n",
    "ecgS16 = datasetS16[\"signal\"][\"chest\"][\"ECG\"]\n",
    "ecgDatasetS16=pd.DataFrame(ecgS16,columns=[\"ECG\"])\n",
    "tempS16 = datasetS16[\"signal\"][\"chest\"][\"Temp\"]\n",
    "tempDatasetS16=pd.DataFrame(tempS16,columns=[\"TEMP\"])\n",
    "edaS16 = datasetS16[\"signal\"][\"chest\"][\"EDA\"]\n",
    "edaDatasetS16=pd.DataFrame(edaS16,columns=[\"EDA\"])\n",
    "respS16 = datasetS16[\"signal\"][\"chest\"][\"Resp\"]\n",
    "respDatasetS16=pd.DataFrame(respS16,columns=[\"RESP\"])\n",
    "labelS16 = datasetS16[\"label\"]\n",
    "labelDatasetS16=pd.DataFrame(labelS16,columns=[\"label\"])\n",
    "dataChestS16=pd.concat([ecgDatasetS16, emgDatasetS16, edaDatasetS16, tempDatasetS16, respDatasetS16, labelDatasetS16], axis=1)"
   ]
  },
  {
   "cell_type": "code",
   "execution_count": 86,
   "metadata": {},
   "outputs": [],
   "source": [
    "dataChestCleanS16 = dataChestS16.loc[dataChestS16[\"label\"]>0]\n",
    "dataChestCleanS16 = dataChestCleanS16.loc[dataChestCleanS16[\"label\"]<5]"
   ]
  },
  {
   "cell_type": "markdown",
   "metadata": {},
   "source": [
    "# SUJETO 17"
   ]
  },
  {
   "cell_type": "code",
   "execution_count": 87,
   "metadata": {},
   "outputs": [],
   "source": [
    "datasetS17 = pd.read_pickle(\"/media/jaime/tocho/Universidad/Master/TFM/WESAD/S17/S17.pkl\")"
   ]
  },
  {
   "cell_type": "code",
   "execution_count": 88,
   "metadata": {},
   "outputs": [],
   "source": [
    "emgS17 = datasetS17[\"signal\"][\"chest\"][\"EMG\"]\n",
    "emgDatasetS17=pd.DataFrame(emgS17,columns=[\"EMG\"])\n",
    "ecgS17 = datasetS17[\"signal\"][\"chest\"][\"ECG\"]\n",
    "ecgDatasetS17=pd.DataFrame(ecgS17,columns=[\"ECG\"])\n",
    "tempS17 = datasetS17[\"signal\"][\"chest\"][\"Temp\"]\n",
    "tempDatasetS17=pd.DataFrame(tempS17,columns=[\"TEMP\"])\n",
    "edaS17 = datasetS17[\"signal\"][\"chest\"][\"EDA\"]\n",
    "edaDatasetS17=pd.DataFrame(edaS17,columns=[\"EDA\"])\n",
    "respS17 = datasetS17[\"signal\"][\"chest\"][\"Resp\"]\n",
    "respDatasetS17=pd.DataFrame(respS17,columns=[\"RESP\"])\n",
    "labelS17 = datasetS17[\"label\"]\n",
    "labelDatasetS17=pd.DataFrame(labelS17,columns=[\"label\"])\n",
    "dataChestS17=pd.concat([ecgDatasetS17, emgDatasetS17, edaDatasetS17, tempDatasetS17, respDatasetS17, labelDatasetS17], axis=1)"
   ]
  },
  {
   "cell_type": "code",
   "execution_count": 89,
   "metadata": {},
   "outputs": [],
   "source": [
    "dataChestCleanS17 = dataChestS17.loc[dataChestS17[\"label\"]>0]\n",
    "dataChestCleanS17 = dataChestCleanS17.loc[dataChestCleanS17[\"label\"]<5]"
   ]
  },
  {
   "cell_type": "markdown",
   "metadata": {},
   "source": [
    "## JOIN DE DATASETS"
   ]
  },
  {
   "cell_type": "code",
   "execution_count": 90,
   "metadata": {},
   "outputs": [
    {
     "data": {
      "text/html": [
       "<div>\n",
       "<style scoped>\n",
       "    .dataframe tbody tr th:only-of-type {\n",
       "        vertical-align: middle;\n",
       "    }\n",
       "\n",
       "    .dataframe tbody tr th {\n",
       "        vertical-align: top;\n",
       "    }\n",
       "\n",
       "    .dataframe thead th {\n",
       "        text-align: right;\n",
       "    }\n",
       "</style>\n",
       "<table border=\"1\" class=\"dataframe\">\n",
       "  <thead>\n",
       "    <tr style=\"text-align: right;\">\n",
       "      <th></th>\n",
       "      <th>ECG</th>\n",
       "      <th>EMG</th>\n",
       "      <th>EDA</th>\n",
       "      <th>TEMP</th>\n",
       "      <th>RESP</th>\n",
       "      <th>label</th>\n",
       "    </tr>\n",
       "  </thead>\n",
       "  <tbody>\n",
       "    <tr>\n",
       "      <th>64564</th>\n",
       "      <td>-0.014648</td>\n",
       "      <td>-0.001968</td>\n",
       "      <td>5.543137</td>\n",
       "      <td>32.567444</td>\n",
       "      <td>2.757263</td>\n",
       "      <td>1</td>\n",
       "    </tr>\n",
       "    <tr>\n",
       "      <th>64565</th>\n",
       "      <td>-0.001236</td>\n",
       "      <td>-0.005539</td>\n",
       "      <td>5.542755</td>\n",
       "      <td>32.567444</td>\n",
       "      <td>2.742004</td>\n",
       "      <td>1</td>\n",
       "    </tr>\n",
       "    <tr>\n",
       "      <th>64566</th>\n",
       "      <td>0.007278</td>\n",
       "      <td>0.017761</td>\n",
       "      <td>5.556107</td>\n",
       "      <td>32.561493</td>\n",
       "      <td>2.603149</td>\n",
       "      <td>1</td>\n",
       "    </tr>\n",
       "    <tr>\n",
       "      <th>64567</th>\n",
       "      <td>0.009201</td>\n",
       "      <td>0.032181</td>\n",
       "      <td>5.558014</td>\n",
       "      <td>32.559998</td>\n",
       "      <td>2.749634</td>\n",
       "      <td>1</td>\n",
       "    </tr>\n",
       "    <tr>\n",
       "      <th>64568</th>\n",
       "      <td>0.007141</td>\n",
       "      <td>-0.011032</td>\n",
       "      <td>5.564117</td>\n",
       "      <td>32.558502</td>\n",
       "      <td>2.760315</td>\n",
       "      <td>1</td>\n",
       "    </tr>\n",
       "    <tr>\n",
       "      <th>...</th>\n",
       "      <td>...</td>\n",
       "      <td>...</td>\n",
       "      <td>...</td>\n",
       "      <td>...</td>\n",
       "      <td>...</td>\n",
       "      <td>...</td>\n",
       "    </tr>\n",
       "    <tr>\n",
       "      <th>4111478</th>\n",
       "      <td>-0.182602</td>\n",
       "      <td>-0.015793</td>\n",
       "      <td>0.484085</td>\n",
       "      <td>31.926239</td>\n",
       "      <td>-1.609802</td>\n",
       "      <td>4</td>\n",
       "    </tr>\n",
       "    <tr>\n",
       "      <th>4111479</th>\n",
       "      <td>-0.170609</td>\n",
       "      <td>0.000687</td>\n",
       "      <td>0.473404</td>\n",
       "      <td>31.932190</td>\n",
       "      <td>-1.646423</td>\n",
       "      <td>4</td>\n",
       "    </tr>\n",
       "    <tr>\n",
       "      <th>4111480</th>\n",
       "      <td>-0.160812</td>\n",
       "      <td>0.004532</td>\n",
       "      <td>0.463486</td>\n",
       "      <td>31.918823</td>\n",
       "      <td>-1.643372</td>\n",
       "      <td>4</td>\n",
       "    </tr>\n",
       "    <tr>\n",
       "      <th>4111481</th>\n",
       "      <td>-0.156326</td>\n",
       "      <td>0.000595</td>\n",
       "      <td>0.459290</td>\n",
       "      <td>31.932190</td>\n",
       "      <td>-1.661682</td>\n",
       "      <td>4</td>\n",
       "    </tr>\n",
       "    <tr>\n",
       "      <th>4111482</th>\n",
       "      <td>-0.154312</td>\n",
       "      <td>-0.009201</td>\n",
       "      <td>0.455475</td>\n",
       "      <td>31.927704</td>\n",
       "      <td>-1.646423</td>\n",
       "      <td>4</td>\n",
       "    </tr>\n",
       "  </tbody>\n",
       "</table>\n",
       "<p>31470603 rows × 6 columns</p>\n",
       "</div>"
      ],
      "text/plain": [
       "              ECG       EMG       EDA       TEMP      RESP  label\n",
       "64564   -0.014648 -0.001968  5.543137  32.567444  2.757263      1\n",
       "64565   -0.001236 -0.005539  5.542755  32.567444  2.742004      1\n",
       "64566    0.007278  0.017761  5.556107  32.561493  2.603149      1\n",
       "64567    0.009201  0.032181  5.558014  32.559998  2.749634      1\n",
       "64568    0.007141 -0.011032  5.564117  32.558502  2.760315      1\n",
       "...           ...       ...       ...        ...       ...    ...\n",
       "4111478 -0.182602 -0.015793  0.484085  31.926239 -1.609802      4\n",
       "4111479 -0.170609  0.000687  0.473404  31.932190 -1.646423      4\n",
       "4111480 -0.160812  0.004532  0.463486  31.918823 -1.643372      4\n",
       "4111481 -0.156326  0.000595  0.459290  31.932190 -1.661682      4\n",
       "4111482 -0.154312 -0.009201  0.455475  31.927704 -1.646423      4\n",
       "\n",
       "[31470603 rows x 6 columns]"
      ]
     },
     "execution_count": 90,
     "metadata": {},
     "output_type": "execute_result"
    }
   ],
   "source": [
    "dataChest=pd.concat([dataChestCleanS17, dataChestCleanS16, dataChestCleanS15, dataChestCleanS14, dataChestCleanS13, dataChestCleanS11, dataChestCleanS10, dataChestCleanS9, dataChestCleanS8, dataChestCleanS7, dataChestCleanS6, dataChestCleanS5, dataChestCleanS4, dataChestCleanS3, dataChestCleanS2], axis=0)\n",
    "dataChest"
   ]
  },
  {
   "cell_type": "code",
   "execution_count": 91,
   "metadata": {},
   "outputs": [],
   "source": [
    "dataChest.to_pickle(\"../Data/dataset.pkl\")"
   ]
  },
  {
   "cell_type": "markdown",
   "metadata": {},
   "source": [
    "# Dataset exploration\n",
    "Any project related with data analysis starts with a study of the data itself: \n",
    "* What kind of data do we have?\n",
    "* How is it organized? How many columns have each dataframe?\n",
    "* Are there wrong or missing values?\n",
    "* What does each value of a column means? How many different values are in each column?\n",
    "\n",
    "With the examples we saw in the previous workshop try to answer that questions."
   ]
  },
  {
   "cell_type": "markdown",
   "metadata": {},
   "source": [
    "# Data cleaning\n",
    "After a first view of the data and before to start working with it, we must clean it. This proccess is called preprocessing and it is crucial to be able to obtain good results. We will discard invalid data, fill missing values, drop redundant information, etc. We need to create a dataset with the following restrictions.\n",
    "* All reserachers should have name, last_name and auth_id. All publications should have title, journal and document_id. Drop the rows that do not match this condition (check https://pandas.pydata.org/pandas-docs/stable/reference/api/pandas.DataFrame.dropna.html)\n",
    "* There are no duplicated publications (same title) or researchers (same name and lastname). To find duplicates check https://pandas.pydata.org/pandas-docs/stable/reference/api/pandas.DataFrame.drop_duplicates.html\n",
    "* All numeric fields must be an integer number bigger or equal to 0. Replace missing values with 0, round decimal values"
   ]
  },
  {
   "cell_type": "code",
   "execution_count": null,
   "metadata": {},
   "outputs": [],
   "source": [
    "researchersClean = researchers.dropna(0,'any',subset=[\"name\",\"last_name\",\"auth_id\"])\n",
    "publicationsClean = publications.dropna(0,'any',subset=[\"title\",\"journal\",\"document_id\"])\n",
    "researchersClean2 = researchersClean.drop_duplicates([\"name\",\"last_name\"])\n",
    "publicationsClean2 = publicationsClean.drop_duplicates(\"title\")\n",
    "#researchersClean2.loc[researchersClean2[\"publications\"]='NaN']\n",
    "#researchersClean2.loc[researchersClean2[\"citations\"]<0]\n",
    "#researchersClean2.loc[researchersClean2[\"cited_by\"]<0]\n",
    "#publicationsClean2.loc[publicationsClean2[\"cited_count\"]<0]\n",
    "publicationsClean3 = publicationsClean2.fillna({'cited_count': 0})\n",
    "researchersClean3 = researchersClean2.fillna({'citations': 0,'cited_by': 0,'publications': 0})"
   ]
  },
  {
   "cell_type": "markdown",
   "metadata": {},
   "source": [
    "Finally, to easy some calculations, lets convert the date column of the publications dataset to a datetime type"
   ]
  },
  {
   "cell_type": "code",
   "execution_count": null,
   "metadata": {},
   "outputs": [],
   "source": [
    "publicationsClean3.date = pd.to_datetime(publications.date, errors='coerce')"
   ]
  },
  {
   "cell_type": "markdown",
   "metadata": {},
   "source": [
    "# Data analytics\n",
    "\n",
    "Once we know about the data we are using and we have cleaned it, we need to ask what kind of useful information we can extract from that data. It is a good idea to make a kind of brainstorming of possible questions, then take the list of resulting questions and sort them by their difficulty, finally begin to answer them starting by the easiest ones.\n",
    "\n",
    "Yoy may need to use a joined dataset to answer some questions"
   ]
  },
  {
   "cell_type": "code",
   "execution_count": null,
   "metadata": {},
   "outputs": [],
   "source": [
    "# This operation creates a dataset combining researchers and publications producing a dataset with one row for each\n",
    "# combination of researcher-publication in which the researcher is one of the authors of the publication\n",
    "data = researchersClean3.merge(publicationsClean3.rename(columns={\"authors\":\"auth_id\"}).explode(\"auth_id\"), on=\"auth_id\")"
   ]
  },
  {
   "cell_type": "markdown",
   "metadata": {},
   "source": [
    "## Basic results\n",
    "\n",
    "Some of the esaiest question or more basic results we can obtain are the following:\n",
    "* Numeric results\n",
    "    * How many researchers are?\n",
    "    * How many publications are?\n",
    "    * How many of journals are?\n",
    "    * How many types of publications are?\n",
    "    * How many publications of each type are?\n",
    "    * How many publications have each researcher in average? (Use only researchers dataset)\n",
    "    * Which is the oldest publication?\n",
    "    * Which is the publication with most citations?\n",
    "    * Who is the researcher with more publications? (Use only researchers dataset)\n",
    "* Graphic results\n",
    "    * Histogram of the number of publications per researcher\n",
    "    * Bar chart of the number of publications by type\n",
    "    * Line chart of the number of publications per year\n",
    "\n",
    "Som of those questions are just countings, sumations or rankings, but other need data aggregations with ``groupby``.\n",
    "\n",
    "**Answer each question in a different cell of this notebook (remember that you can insert new cell from the Insert menu).**"
   ]
  },
  {
   "cell_type": "code",
   "execution_count": null,
   "metadata": {},
   "outputs": [],
   "source": [
    "data"
   ]
  },
  {
   "cell_type": "code",
   "execution_count": null,
   "metadata": {},
   "outputs": [],
   "source": [
    "data[\"auth_id\"].unique().size #unique"
   ]
  },
  {
   "cell_type": "code",
   "execution_count": null,
   "metadata": {},
   "outputs": [],
   "source": [
    "data[\"title\"].unique().size #unique"
   ]
  },
  {
   "cell_type": "code",
   "execution_count": null,
   "metadata": {},
   "outputs": [],
   "source": [
    "data[\"journal\"].unique().size "
   ]
  },
  {
   "cell_type": "code",
   "execution_count": null,
   "metadata": {},
   "outputs": [],
   "source": [
    "data[\"type\"].describe()[1]"
   ]
  },
  {
   "cell_type": "code",
   "execution_count": null,
   "metadata": {},
   "outputs": [],
   "source": [
    "data.groupby(data['type'])['type'].count()"
   ]
  },
  {
   "cell_type": "code",
   "execution_count": null,
   "metadata": {},
   "outputs": [],
   "source": [
    "researchersClean3[\"publications\"].mean()"
   ]
  },
  {
   "cell_type": "code",
   "execution_count": null,
   "metadata": {},
   "outputs": [],
   "source": [
    "data[data[\"date\"]==data[\"date\"].min()] #pub mas antigua"
   ]
  },
  {
   "cell_type": "code",
   "execution_count": null,
   "metadata": {},
   "outputs": [],
   "source": [
    "data[data[\"cited_count\"]==data[\"cited_count\"].max()]"
   ]
  },
  {
   "cell_type": "code",
   "execution_count": null,
   "metadata": {},
   "outputs": [],
   "source": [
    "researchersClean3[researchersClean3[\"publications\"]==researchersClean3[\"publications\"].max()]"
   ]
  },
  {
   "cell_type": "code",
   "execution_count": null,
   "metadata": {},
   "outputs": [],
   "source": [
    "data[\"publications\"]"
   ]
  },
  {
   "cell_type": "code",
   "execution_count": null,
   "metadata": {},
   "outputs": [],
   "source": [
    "fig, ax = plt.subplots(figsize=(7,5))\n",
    "ax.hist(researchers[\"publications\"])\n",
    "plt.show(fig)"
   ]
  },
  {
   "cell_type": "code",
   "execution_count": null,
   "metadata": {},
   "outputs": [],
   "source": [
    "publications.groupby(publications['type'])[\"title\"].count().plot.bar()\n"
   ]
  },
  {
   "cell_type": "code",
   "execution_count": null,
   "metadata": {},
   "outputs": [],
   "source": [
    "publicationsClean3.groupby(publicationsClean3['date'].dt.year)[\"date\"].count().plot.line()"
   ]
  },
  {
   "cell_type": "markdown",
   "metadata": {},
   "source": [
    "# Intermediate results\n",
    "\n",
    "* Numeric results\n",
    "    * How many publications of each researcher are in the data? Is this the same number than the column ``document-count``?\n",
    "    * How many authors have each publication? (show 5)\n",
    "    * What is the average number of authors in a publication?\n",
    "    * What is the average number of pages in a publication depending of the publication type?\n",
    "    * What is the average number of citations in a publication depending of the publication type?\n",
    "    * How many years each researcher have been active? (difference between the publciationDate of the oldest and newest publications)\n",
    "* Graphic results\n",
    "    * Histogram of the number of researchers by the number of active years\n",
    "    * Histogram of the number of authors in a publication\n",
    "    * Scatter plot of the publication year vs the number of citations\n",
    "    * Chart of the average number of citations depending on the publication type\n",
    "    * Chart of the average number of pages depending on the publication type\n",
    "\n",
    "**Choose 5 questions from the list and answer each in a different cell.**"
   ]
  },
  {
   "cell_type": "code",
   "execution_count": null,
   "metadata": {},
   "outputs": [],
   "source": [
    "data.groupby(data['auth_id'])['auth_id'].count()  #Nºpubs/researcher\n",
    "#data[data[\"auth_id\"]==6503890565] No Coincide"
   ]
  },
  {
   "cell_type": "code",
   "execution_count": null,
   "metadata": {},
   "outputs": [],
   "source": [
    "data.groupby(data['auth_id']).first()[data.groupby(data['auth_id'])['auth_id'].count() != data.groupby(data['auth_id'])['publications'].first()]"
   ]
  },
  {
   "cell_type": "code",
   "execution_count": null,
   "metadata": {},
   "outputs": [],
   "source": [
    "def ret_five(x):\n",
    "    if x is None or len(x)<5:\n",
    "        if x:\n",
    "            print(len(x),x)\n",
    "            #return\n",
    "        #return \n",
    "    else:\n",
    "        print(len(x),[x[0],x[1],x[2],x[3],x[4]])\n",
    "        #return \n",
    "publicationsClean3['authors'].apply(ret_five)\n"
   ]
  },
  {
   "cell_type": "code",
   "execution_count": null,
   "metadata": {},
   "outputs": [],
   "source": [
    "def ret_count(x):\n",
    "    if x is None:\n",
    "        return 0\n",
    "    else:\n",
    "        return len(x)\n",
    "publicationsClean3.authors.apply(ret_count).mean()"
   ]
  },
  {
   "cell_type": "code",
   "execution_count": null,
   "metadata": {},
   "outputs": [],
   "source": [
    "fig, ax = plt.subplots(figsize=(7,5))\n",
    "ax.hist(publicationsClean3.authors.apply(ret_count))\n",
    "plt.show(fig)"
   ]
  },
  {
   "cell_type": "code",
   "execution_count": null,
   "metadata": {},
   "outputs": [],
   "source": [
    "publicationsClean3.groupby('type').cited_count.mean()"
   ]
  },
  {
   "cell_type": "markdown",
   "metadata": {},
   "source": [
    "## Advanced results\n",
    "\n",
    "The most difficult questions to answer usually are a small set which needs more explanation than a single line.\n",
    "\n",
    "* Coauthor: \n",
    "    One researcher is coatuhor with other if both appears as author in at least one publication. \n",
    "    * What is the average number of different coauthors of each researcher?\n",
    "    * How is the most frequent coauthor (their id) of each researcher?\n",
    "\n",
    "\n",
    "* H-index: \n",
    "    The h-index (https://en.wikipedia.org/wiki/H-index) is a metric that tries to describe the impact of a researcher based on the number of citations received in each publication. A researcher has a h-index of `n` if she has at least `n` publications with `n` or more citations.\n",
    "\n",
    "    * What is the h-index of each researcher?\n",
    "    * Chart of the publications and number of citations of a certain researcher, highlinting (in a different color) which publications contributed to the h-index\n",
    "\n",
    "![alt text](img/h-index.svg \"H-Index\")\n",
    "\n",
    "**Choose 1 group and solve it.**"
   ]
  },
  {
   "cell_type": "code",
   "execution_count": null,
   "metadata": {},
   "outputs": [],
   "source": [
    "index_H = {}\n",
    "for authID, group in data.groupby(\"auth_id\"):\n",
    "    #print(group[\"cited_count\"])\n",
    "    i = 1\n",
    "    while True:\n",
    "        cnt = 0\n",
    "    #print(\"HOAL\",authID,group[\"cited_count\"])\n",
    "        for cite in group[\"cited_count\"]:\n",
    "            if cite >= i:\n",
    "                cnt+=1\n",
    "        if cnt >= i:\n",
    "            i+=1\n",
    "        else:\n",
    "            index_H[authID]=i-1\n",
    "            break\n"
   ]
  },
  {
   "cell_type": "code",
   "execution_count": null,
   "metadata": {},
   "outputs": [],
   "source": [
    "#6504374283: 8\n",
    "authID = 6504374283\n",
    "gteHIndex = []\n",
    "gteIndex = []\n",
    "ltHIndex = []\n",
    "ltIndex = []\n",
    "def getPubHIndex(x,HIndex):\n",
    "    if x >= HIndex:\n",
    "        gteHIndex.append(x)\n",
    "    else:\n",
    "        ltHIndex.append(x)\n",
    "data[data[\"auth_id\"]==authID][\"cited_count\"].apply(getPubHIndex, HIndex=index_H[authID])\n",
    "gteHIndex.sort(reverse=True)\n",
    "ltHIndex.sort(reverse=True)\n",
    "for i in range(len(gteHIndex)):\n",
    "    gteIndex.append(i+1)\n",
    "for j in range(len(ltHIndex)):\n",
    "    ltIndex.append(j+1+len(gteHIndex))\n",
    "fig, ax = plt.subplots(figsize=(7,5))\n",
    "ax.bar(gteIndex,gteHIndex,color='g')\n",
    "ax.bar(ltIndex,ltHIndex,color='r')\n",
    "ax.set_xlabel(\"Publications\")\n",
    "ax.set_ylabel(\"Cites\")\n",
    "ax.set_title(\"H-Index = \" + str(index_H[authID]))\n",
    "plt.show(fig)"
   ]
  }
 ],
 "metadata": {
  "kernelspec": {
   "display_name": "Python 3",
   "language": "python",
   "name": "python3"
  },
  "language_info": {
   "codemirror_mode": {
    "name": "ipython",
    "version": 3
   },
   "file_extension": ".py",
   "mimetype": "text/x-python",
   "name": "python",
   "nbconvert_exporter": "python",
   "pygments_lexer": "ipython3",
   "version": "3.6.9"
  }
 },
 "nbformat": 4,
 "nbformat_minor": 2
}
