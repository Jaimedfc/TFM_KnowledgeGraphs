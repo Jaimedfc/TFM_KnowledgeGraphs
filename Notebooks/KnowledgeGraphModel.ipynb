{
 "cells": [
  {
   "cell_type": "code",
   "execution_count": 1,
   "metadata": {},
   "outputs": [],
   "source": [
    "import numpy as np\n",
    "import pandas as pd\n",
    "import ampligraph"
   ]
  },
  {
   "cell_type": "code",
   "execution_count": 2,
   "metadata": {},
   "outputs": [
    {
     "data": {
      "text/plain": [
       "'1.2.0'"
      ]
     },
     "execution_count": 2,
     "metadata": {},
     "output_type": "execute_result"
    }
   ],
   "source": [
    "ampligraph.__version__"
   ]
  },
  {
   "cell_type": "code",
   "execution_count": 3,
   "metadata": {},
   "outputs": [],
   "source": [
    "df = pd.read_pickle(\"../Data/cleanDataset.pkl\")"
   ]
  },
  {
   "cell_type": "code",
   "execution_count": 14,
   "metadata": {},
   "outputs": [],
   "source": [
    "df[\"train\"] = df.Sujeto > \"S14\""
   ]
  },
  {
   "cell_type": "code",
   "execution_count": 15,
   "metadata": {},
   "outputs": [
    {
     "data": {
      "text/plain": [
       "True     22976801\n",
       "False     8493802\n",
       "Name: train, dtype: int64"
      ]
     },
     "execution_count": 15,
     "metadata": {},
     "output_type": "execute_result"
    }
   ],
   "source": [
    "df.train.value_counts()"
   ]
  },
  {
   "cell_type": "code",
   "execution_count": 16,
   "metadata": {},
   "outputs": [
    {
     "data": {
      "text/html": [
       "<div>\n",
       "<style scoped>\n",
       "    .dataframe tbody tr th:only-of-type {\n",
       "        vertical-align: middle;\n",
       "    }\n",
       "\n",
       "    .dataframe tbody tr th {\n",
       "        vertical-align: top;\n",
       "    }\n",
       "\n",
       "    .dataframe thead th {\n",
       "        text-align: right;\n",
       "    }\n",
       "</style>\n",
       "<table border=\"1\" class=\"dataframe\">\n",
       "  <thead>\n",
       "    <tr style=\"text-align: right;\">\n",
       "      <th></th>\n",
       "      <th>ECG</th>\n",
       "      <th>EMG</th>\n",
       "      <th>EDA</th>\n",
       "      <th>TEMP</th>\n",
       "      <th>RESP</th>\n",
       "      <th>Sujeto</th>\n",
       "      <th>label</th>\n",
       "      <th>train</th>\n",
       "    </tr>\n",
       "  </thead>\n",
       "  <tbody>\n",
       "    <tr>\n",
       "      <th>64564</th>\n",
       "      <td>-0.014648</td>\n",
       "      <td>-0.001968</td>\n",
       "      <td>5.543137</td>\n",
       "      <td>32.567444</td>\n",
       "      <td>2.757263</td>\n",
       "      <td>S17</td>\n",
       "      <td>1</td>\n",
       "      <td>True</td>\n",
       "    </tr>\n",
       "    <tr>\n",
       "      <th>64565</th>\n",
       "      <td>-0.001236</td>\n",
       "      <td>-0.005539</td>\n",
       "      <td>5.542755</td>\n",
       "      <td>32.567444</td>\n",
       "      <td>2.742004</td>\n",
       "      <td>S17</td>\n",
       "      <td>1</td>\n",
       "      <td>True</td>\n",
       "    </tr>\n",
       "    <tr>\n",
       "      <th>64566</th>\n",
       "      <td>0.007278</td>\n",
       "      <td>0.017761</td>\n",
       "      <td>5.556107</td>\n",
       "      <td>32.561493</td>\n",
       "      <td>2.603149</td>\n",
       "      <td>S17</td>\n",
       "      <td>1</td>\n",
       "      <td>True</td>\n",
       "    </tr>\n",
       "    <tr>\n",
       "      <th>64567</th>\n",
       "      <td>0.009201</td>\n",
       "      <td>0.032181</td>\n",
       "      <td>5.558014</td>\n",
       "      <td>32.559998</td>\n",
       "      <td>2.749634</td>\n",
       "      <td>S17</td>\n",
       "      <td>1</td>\n",
       "      <td>True</td>\n",
       "    </tr>\n",
       "    <tr>\n",
       "      <th>64568</th>\n",
       "      <td>0.007141</td>\n",
       "      <td>-0.011032</td>\n",
       "      <td>5.564117</td>\n",
       "      <td>32.558502</td>\n",
       "      <td>2.760315</td>\n",
       "      <td>S17</td>\n",
       "      <td>1</td>\n",
       "      <td>True</td>\n",
       "    </tr>\n",
       "    <tr>\n",
       "      <th>...</th>\n",
       "      <td>...</td>\n",
       "      <td>...</td>\n",
       "      <td>...</td>\n",
       "      <td>...</td>\n",
       "      <td>...</td>\n",
       "      <td>...</td>\n",
       "      <td>...</td>\n",
       "      <td>...</td>\n",
       "    </tr>\n",
       "    <tr>\n",
       "      <th>4111478</th>\n",
       "      <td>-0.182602</td>\n",
       "      <td>-0.015793</td>\n",
       "      <td>0.484085</td>\n",
       "      <td>31.926239</td>\n",
       "      <td>-1.609802</td>\n",
       "      <td>S2</td>\n",
       "      <td>4</td>\n",
       "      <td>True</td>\n",
       "    </tr>\n",
       "    <tr>\n",
       "      <th>4111479</th>\n",
       "      <td>-0.170609</td>\n",
       "      <td>0.000687</td>\n",
       "      <td>0.473404</td>\n",
       "      <td>31.932190</td>\n",
       "      <td>-1.646423</td>\n",
       "      <td>S2</td>\n",
       "      <td>4</td>\n",
       "      <td>True</td>\n",
       "    </tr>\n",
       "    <tr>\n",
       "      <th>4111480</th>\n",
       "      <td>-0.160812</td>\n",
       "      <td>0.004532</td>\n",
       "      <td>0.463486</td>\n",
       "      <td>31.918823</td>\n",
       "      <td>-1.643372</td>\n",
       "      <td>S2</td>\n",
       "      <td>4</td>\n",
       "      <td>True</td>\n",
       "    </tr>\n",
       "    <tr>\n",
       "      <th>4111481</th>\n",
       "      <td>-0.156326</td>\n",
       "      <td>0.000595</td>\n",
       "      <td>0.459290</td>\n",
       "      <td>31.932190</td>\n",
       "      <td>-1.661682</td>\n",
       "      <td>S2</td>\n",
       "      <td>4</td>\n",
       "      <td>True</td>\n",
       "    </tr>\n",
       "    <tr>\n",
       "      <th>4111482</th>\n",
       "      <td>-0.154312</td>\n",
       "      <td>-0.009201</td>\n",
       "      <td>0.455475</td>\n",
       "      <td>31.927704</td>\n",
       "      <td>-1.646423</td>\n",
       "      <td>S2</td>\n",
       "      <td>4</td>\n",
       "      <td>True</td>\n",
       "    </tr>\n",
       "  </tbody>\n",
       "</table>\n",
       "<p>31470603 rows × 8 columns</p>\n",
       "</div>"
      ],
      "text/plain": [
       "              ECG       EMG       EDA       TEMP      RESP Sujeto  label  \\\n",
       "64564   -0.014648 -0.001968  5.543137  32.567444  2.757263    S17      1   \n",
       "64565   -0.001236 -0.005539  5.542755  32.567444  2.742004    S17      1   \n",
       "64566    0.007278  0.017761  5.556107  32.561493  2.603149    S17      1   \n",
       "64567    0.009201  0.032181  5.558014  32.559998  2.749634    S17      1   \n",
       "64568    0.007141 -0.011032  5.564117  32.558502  2.760315    S17      1   \n",
       "...           ...       ...       ...        ...       ...    ...    ...   \n",
       "4111478 -0.182602 -0.015793  0.484085  31.926239 -1.609802     S2      4   \n",
       "4111479 -0.170609  0.000687  0.473404  31.932190 -1.646423     S2      4   \n",
       "4111480 -0.160812  0.004532  0.463486  31.918823 -1.643372     S2      4   \n",
       "4111481 -0.156326  0.000595  0.459290  31.932190 -1.661682     S2      4   \n",
       "4111482 -0.154312 -0.009201  0.455475  31.927704 -1.646423     S2      4   \n",
       "\n",
       "         train  \n",
       "64564     True  \n",
       "64565     True  \n",
       "64566     True  \n",
       "64567     True  \n",
       "64568     True  \n",
       "...        ...  \n",
       "4111478   True  \n",
       "4111479   True  \n",
       "4111480   True  \n",
       "4111481   True  \n",
       "4111482   True  \n",
       "\n",
       "[31470603 rows x 8 columns]"
      ]
     },
     "execution_count": 16,
     "metadata": {},
     "output_type": "execute_result"
    }
   ],
   "source": [
    "df"
   ]
  },
  {
   "cell_type": "code",
   "execution_count": 20,
   "metadata": {},
   "outputs": [],
   "source": [
    "df[\"data_id\"] = df.index.values.astype(str)\n",
    "df[\"data_id\"] = \"Dato\" + df.data_id\n",
    "df[\"subject_id\"] = df.Sujeto.values.astype(str)"
   ]
  },
  {
   "cell_type": "code",
   "execution_count": null,
   "metadata": {},
   "outputs": [],
   "source": [
    "triples = []\n",
    "for _, row in df[df[\"train\"]].iterrows():\n",
    "    # Data info\n",
    "    ecg_triple = (row[\"ECG\"], \"isECGDataIn\", row[\"data_id\"])\n",
    "    emg_triple = (row[\"EMG\"], \"isEMGDataIn\", row[\"data_id\"])\n",
    "    eda_triple = (row[\"EDA\"], \"isEDADataIn\", row[\"data_id\"])\n",
    "    temp_triple = (row[\"TEMP\"], \"isTEMPDataIn\", row[\"data_id\"])\n",
    "    resp_triple = (row[\"RESP\"], \"isRESPDataIn\", row[\"data_id\"])\n",
    "    \n",
    "    # Stress results\n",
    "    if row[\"label\"] == 1:\n",
    "        label_triple = (row[\"data_id\"], \"ShowsAStateOf\", \"Baseline\")\n",
    "    elif row[\"label\"] == 2:\n",
    "        label_triple = (row[\"data_id\"], \"FeelingOfData\", \"Stress\")\n",
    "    elif row[\"label\"] == 3:\n",
    "        label_triple = (row[\"data_id\"], \"FeelingOfData\", \"Amusement\")\n",
    "    elif row[\"label\"] == 4:\n",
    "        label_triple = (row[\"data_id\"], \"FeelingOfData\", \"Meditaion\")\n",
    "    \n",
    "    suj_triple = (row[\"data_id\"], \"isProducedBy\", row[\"subject_id\"])\n",
    "    \n",
    "    triples.extend((ecg_triple, emg_triple, eda_triple, temp_triple, \n",
    "                    resp_triple, label_triple, suj_triple))"
   ]
  },
  {
   "cell_type": "code",
   "execution_count": null,
   "metadata": {},
   "outputs": [],
   "source": [
    "triples_df = pd.DataFrame(triples, columns=[\"subject\", \"predicate\", \"object\"])\n",
    "triples_df[(triples_df.subject==\"Dato64566\") | (triples_df.object==\"Dato64566\")]"
   ]
  },
  {
   "cell_type": "code",
   "execution_count": null,
   "metadata": {},
   "outputs": [],
   "source": [
    "from ampligraph.evaluation import train_test_split_no_unseen \n",
    "\n",
    "X_train, X_valid = train_test_split_no_unseen(np.array(triples), test_size=10000)\n",
    "print('Train set size: ', X_train.shape)\n",
    "print('Test set size: ', X_valid.shape)"
   ]
  },
  {
   "cell_type": "code",
   "execution_count": null,
   "metadata": {},
   "outputs": [],
   "source": [
    "from ampligraph.latent_features import ComplEx\n",
    "\n",
    "model = ComplEx(batches_count=50,\n",
    "                epochs=300,\n",
    "                k=100,\n",
    "                eta=20,\n",
    "                optimizer='adam', \n",
    "                optimizer_params={'lr':1e-4},\n",
    "                loss='multiclass_nll',\n",
    "                regularizer='LP', \n",
    "                regularizer_params={'p':3, 'lambda':1e-5}, \n",
    "                seed=0, \n",
    "                verbose=True)"
   ]
  },
  {
   "cell_type": "code",
   "execution_count": null,
   "metadata": {},
   "outputs": [],
   "source": [
    "import tensorflow as tf\n",
    "tf.logging.set_verbosity(tf.logging.ERROR)\n",
    "\n",
    "model.fit(X_train)"
   ]
  },
  {
   "cell_type": "code",
   "execution_count": null,
   "metadata": {},
   "outputs": [],
   "source": [
    "from ampligraph.utils import save_model\n",
    "\n",
    "save_model(model, model_name_path = \"../Data/KGmodel.pkl\")"
   ]
  }
 ],
 "metadata": {
  "kernelspec": {
   "display_name": "Python 3",
   "language": "python",
   "name": "python3"
  },
  "language_info": {
   "codemirror_mode": {
    "name": "ipython",
    "version": 3
   },
   "file_extension": ".py",
   "mimetype": "text/x-python",
   "name": "python",
   "nbconvert_exporter": "python",
   "pygments_lexer": "ipython3",
   "version": "3.6.9"
  }
 },
 "nbformat": 4,
 "nbformat_minor": 2
}
