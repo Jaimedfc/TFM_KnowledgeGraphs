{
 "cells": [
  {
   "cell_type": "markdown",
   "metadata": {},
   "source": [
    "In this workshop we are goin to work with the dataset of the UPM researchers and their publications. This dataset is composed by two files: a json and a csv. These files are an extended versión of the csv that we used in the web application workshops.\n",
    "\n",
    "Our goal is obtain as much information as we can from this dataset. We will achieve this in two ways: we will answer questions with numeric values (e.g. what is the average number publications of an UPM reaearcher? or, how many citations have the reseachers, suming all their publications?) or we will generate some charts to present information in a visual way (e.g. how is the relation between the publication year of a paper and its number of citations? or, how is the histogram of the number of publications by researcher?)"
   ]
  },
  {
   "cell_type": "code",
   "execution_count": null,
   "metadata": {},
   "outputs": [],
   "source": [
    "import pandas as pd\n",
    "import matplotlib.pyplot as plt\n",
    "import numpy\n",
    "#Faltan S1 y S12"
   ]
  },
  {
   "cell_type": "markdown",
   "metadata": {},
   "source": [
    "# SUJETO 2"
   ]
  },
  {
   "cell_type": "code",
   "execution_count": null,
   "metadata": {},
   "outputs": [],
   "source": [
    "datasetS2 = pd.read_pickle(\"/media/jaime/tocho/Universidad/Master/TFM/WESAD/S2/S2.pkl\")"
   ]
  },
  {
   "cell_type": "code",
   "execution_count": null,
   "metadata": {},
   "outputs": [],
   "source": [
    "emgS2 = datasetS2[\"signal\"][\"chest\"][\"EMG\"]\n",
    "emgDatasetS2=pd.DataFrame(emgS2,columns=[\"EMG\"])\n",
    "ecgS2 = datasetS2[\"signal\"][\"chest\"][\"ECG\"]\n",
    "ecgDatasetS2=pd.DataFrame(ecgS2,columns=[\"ECG\"])\n",
    "tempS2 = datasetS2[\"signal\"][\"chest\"][\"Temp\"]\n",
    "tempDatasetS2=pd.DataFrame(tempS2,columns=[\"TEMP\"])\n",
    "edaS2 = datasetS2[\"signal\"][\"chest\"][\"EDA\"]\n",
    "edaDatasetS2=pd.DataFrame(edaS2,columns=[\"EDA\"])\n",
    "respS2 = datasetS2[\"signal\"][\"chest\"][\"Resp\"]\n",
    "respDatasetS2=pd.DataFrame(respS2,columns=[\"RESP\"])\n",
    "labelS2 = datasetS2[\"label\"]\n",
    "labelDatasetS2=pd.DataFrame(labelS2,columns=[\"label\"])\n",
    "dataChestS2=pd.concat([ecgDatasetS2, emgDatasetS2, edaDatasetS2, tempDatasetS2, respDatasetS2, labelDatasetS2], axis=1)\n",
    "dataChestS2"
   ]
  },
  {
   "cell_type": "code",
   "execution_count": null,
   "metadata": {},
   "outputs": [],
   "source": [
    "dataChestS2.groupby(dataChestS2['label'])[\"ECG\"].count().plot.bar()\n",
    "#Delete 0,5,6,7"
   ]
  },
  {
   "cell_type": "code",
   "execution_count": null,
   "metadata": {},
   "outputs": [],
   "source": [
    "dataChestCleanS2 = dataChestS2.loc[dataChestS2[\"label\"]>0]\n",
    "dataChestCleanS2 = dataChestCleanS2.loc[dataChestCleanS2[\"label\"]<5]\n",
    "dataChestCleanS2\n",
    "# 1 -> baseline\n",
    "# 2 -> stress\n",
    "# 3 -> amusement\n",
    "# 4 -> meditation"
   ]
  },
  {
   "cell_type": "code",
   "execution_count": null,
   "metadata": {},
   "outputs": [],
   "source": [
    "dataChestCleanS2.groupby(dataChestS2['label'])[\"ECG\"].count().plot.bar()"
   ]
  },
  {
   "cell_type": "markdown",
   "metadata": {},
   "source": [
    "# SUJETO 3"
   ]
  },
  {
   "cell_type": "code",
   "execution_count": null,
   "metadata": {},
   "outputs": [],
   "source": [
    "datasetS3 = pd.read_pickle(\"/media/jaime/tocho/Universidad/Master/TFM/WESAD/S3/S3.pkl\")"
   ]
  },
  {
   "cell_type": "code",
   "execution_count": null,
   "metadata": {},
   "outputs": [],
   "source": [
    "emgS3 = datasetS3[\"signal\"][\"chest\"][\"EMG\"]\n",
    "emgDatasetS3=pd.DataFrame(emgS3,columns=[\"EMG\"])\n",
    "ecgS3 = datasetS3[\"signal\"][\"chest\"][\"ECG\"]\n",
    "ecgDatasetS3=pd.DataFrame(ecgS3,columns=[\"ECG\"])\n",
    "tempS3 = datasetS3[\"signal\"][\"chest\"][\"Temp\"]\n",
    "tempDatasetS3=pd.DataFrame(tempS3,columns=[\"TEMP\"])\n",
    "edaS3 = datasetS3[\"signal\"][\"chest\"][\"EDA\"]\n",
    "edaDatasetS3=pd.DataFrame(edaS3,columns=[\"EDA\"])\n",
    "respS3 = datasetS3[\"signal\"][\"chest\"][\"Resp\"]\n",
    "respDatasetS3=pd.DataFrame(respS3,columns=[\"RESP\"])\n",
    "labelS3 = datasetS3[\"label\"]\n",
    "labelDatasetS3=pd.DataFrame(labelS3,columns=[\"label\"])\n",
    "dataChestS3=pd.concat([ecgDatasetS3, emgDatasetS3, edaDatasetS3, tempDatasetS3, respDatasetS3, labelDatasetS3], axis=1)\n",
    "dataChestS3"
   ]
  },
  {
   "cell_type": "code",
   "execution_count": null,
   "metadata": {},
   "outputs": [],
   "source": [
    "dataChestCleanS3 = dataChestS3.loc[dataChestS3[\"label\"]>0]\n",
    "dataChestCleanS3 = dataChestCleanS3.loc[dataChestCleanS3[\"label\"]<5]\n",
    "dataChestCleanS3"
   ]
  },
  {
   "cell_type": "markdown",
   "metadata": {},
   "source": [
    "# SUJETO 4"
   ]
  },
  {
   "cell_type": "code",
   "execution_count": null,
   "metadata": {},
   "outputs": [],
   "source": []
  },
  {
   "cell_type": "markdown",
   "metadata": {},
   "source": [
    "# Dataset exploration\n",
    "Any project related with data analysis starts with a study of the data itself: \n",
    "* What kind of data do we have?\n",
    "* How is it organized? How many columns have each dataframe?\n",
    "* Are there wrong or missing values?\n",
    "* What does each value of a column means? How many different values are in each column?\n",
    "\n",
    "With the examples we saw in the previous workshop try to answer that questions."
   ]
  },
  {
   "cell_type": "markdown",
   "metadata": {},
   "source": [
    "# Data cleaning\n",
    "After a first view of the data and before to start working with it, we must clean it. This proccess is called preprocessing and it is crucial to be able to obtain good results. We will discard invalid data, fill missing values, drop redundant information, etc. We need to create a dataset with the following restrictions.\n",
    "* All reserachers should have name, last_name and auth_id. All publications should have title, journal and document_id. Drop the rows that do not match this condition (check https://pandas.pydata.org/pandas-docs/stable/reference/api/pandas.DataFrame.dropna.html)\n",
    "* There are no duplicated publications (same title) or researchers (same name and lastname). To find duplicates check https://pandas.pydata.org/pandas-docs/stable/reference/api/pandas.DataFrame.drop_duplicates.html\n",
    "* All numeric fields must be an integer number bigger or equal to 0. Replace missing values with 0, round decimal values"
   ]
  },
  {
   "cell_type": "code",
   "execution_count": null,
   "metadata": {},
   "outputs": [],
   "source": [
    "researchersClean = researchers.dropna(0,'any',subset=[\"name\",\"last_name\",\"auth_id\"])\n",
    "publicationsClean = publications.dropna(0,'any',subset=[\"title\",\"journal\",\"document_id\"])\n",
    "researchersClean2 = researchersClean.drop_duplicates([\"name\",\"last_name\"])\n",
    "publicationsClean2 = publicationsClean.drop_duplicates(\"title\")\n",
    "#researchersClean2.loc[researchersClean2[\"publications\"]='NaN']\n",
    "#researchersClean2.loc[researchersClean2[\"citations\"]<0]\n",
    "#researchersClean2.loc[researchersClean2[\"cited_by\"]<0]\n",
    "#publicationsClean2.loc[publicationsClean2[\"cited_count\"]<0]\n",
    "publicationsClean3 = publicationsClean2.fillna({'cited_count': 0})\n",
    "researchersClean3 = researchersClean2.fillna({'citations': 0,'cited_by': 0,'publications': 0})"
   ]
  },
  {
   "cell_type": "markdown",
   "metadata": {},
   "source": [
    "Finally, to easy some calculations, lets convert the date column of the publications dataset to a datetime type"
   ]
  },
  {
   "cell_type": "code",
   "execution_count": null,
   "metadata": {},
   "outputs": [],
   "source": [
    "publicationsClean3.date = pd.to_datetime(publications.date, errors='coerce')"
   ]
  },
  {
   "cell_type": "markdown",
   "metadata": {},
   "source": [
    "# Data analytics\n",
    "\n",
    "Once we know about the data we are using and we have cleaned it, we need to ask what kind of useful information we can extract from that data. It is a good idea to make a kind of brainstorming of possible questions, then take the list of resulting questions and sort them by their difficulty, finally begin to answer them starting by the easiest ones.\n",
    "\n",
    "Yoy may need to use a joined dataset to answer some questions"
   ]
  },
  {
   "cell_type": "code",
   "execution_count": null,
   "metadata": {},
   "outputs": [],
   "source": [
    "# This operation creates a dataset combining researchers and publications producing a dataset with one row for each\n",
    "# combination of researcher-publication in which the researcher is one of the authors of the publication\n",
    "data = researchersClean3.merge(publicationsClean3.rename(columns={\"authors\":\"auth_id\"}).explode(\"auth_id\"), on=\"auth_id\")"
   ]
  },
  {
   "cell_type": "markdown",
   "metadata": {},
   "source": [
    "## Basic results\n",
    "\n",
    "Some of the esaiest question or more basic results we can obtain are the following:\n",
    "* Numeric results\n",
    "    * How many researchers are?\n",
    "    * How many publications are?\n",
    "    * How many of journals are?\n",
    "    * How many types of publications are?\n",
    "    * How many publications of each type are?\n",
    "    * How many publications have each researcher in average? (Use only researchers dataset)\n",
    "    * Which is the oldest publication?\n",
    "    * Which is the publication with most citations?\n",
    "    * Who is the researcher with more publications? (Use only researchers dataset)\n",
    "* Graphic results\n",
    "    * Histogram of the number of publications per researcher\n",
    "    * Bar chart of the number of publications by type\n",
    "    * Line chart of the number of publications per year\n",
    "\n",
    "Som of those questions are just countings, sumations or rankings, but other need data aggregations with ``groupby``.\n",
    "\n",
    "**Answer each question in a different cell of this notebook (remember that you can insert new cell from the Insert menu).**"
   ]
  },
  {
   "cell_type": "code",
   "execution_count": null,
   "metadata": {},
   "outputs": [],
   "source": [
    "data"
   ]
  },
  {
   "cell_type": "code",
   "execution_count": null,
   "metadata": {},
   "outputs": [],
   "source": [
    "data[\"auth_id\"].unique().size #unique"
   ]
  },
  {
   "cell_type": "code",
   "execution_count": null,
   "metadata": {},
   "outputs": [],
   "source": [
    "data[\"title\"].unique().size #unique"
   ]
  },
  {
   "cell_type": "code",
   "execution_count": null,
   "metadata": {},
   "outputs": [],
   "source": [
    "data[\"journal\"].unique().size "
   ]
  },
  {
   "cell_type": "code",
   "execution_count": null,
   "metadata": {},
   "outputs": [],
   "source": [
    "data[\"type\"].describe()[1]"
   ]
  },
  {
   "cell_type": "code",
   "execution_count": null,
   "metadata": {},
   "outputs": [],
   "source": [
    "data.groupby(data['type'])['type'].count()"
   ]
  },
  {
   "cell_type": "code",
   "execution_count": null,
   "metadata": {},
   "outputs": [],
   "source": [
    "researchersClean3[\"publications\"].mean()"
   ]
  },
  {
   "cell_type": "code",
   "execution_count": null,
   "metadata": {},
   "outputs": [],
   "source": [
    "data[data[\"date\"]==data[\"date\"].min()] #pub mas antigua"
   ]
  },
  {
   "cell_type": "code",
   "execution_count": null,
   "metadata": {},
   "outputs": [],
   "source": [
    "data[data[\"cited_count\"]==data[\"cited_count\"].max()]"
   ]
  },
  {
   "cell_type": "code",
   "execution_count": null,
   "metadata": {},
   "outputs": [],
   "source": [
    "researchersClean3[researchersClean3[\"publications\"]==researchersClean3[\"publications\"].max()]"
   ]
  },
  {
   "cell_type": "code",
   "execution_count": null,
   "metadata": {},
   "outputs": [],
   "source": [
    "data[\"publications\"]"
   ]
  },
  {
   "cell_type": "code",
   "execution_count": null,
   "metadata": {},
   "outputs": [],
   "source": [
    "fig, ax = plt.subplots(figsize=(7,5))\n",
    "ax.hist(researchers[\"publications\"])\n",
    "plt.show(fig)"
   ]
  },
  {
   "cell_type": "code",
   "execution_count": null,
   "metadata": {},
   "outputs": [],
   "source": [
    "publications.groupby(publications['type'])[\"title\"].count().plot.bar()\n"
   ]
  },
  {
   "cell_type": "code",
   "execution_count": null,
   "metadata": {},
   "outputs": [],
   "source": [
    "publicationsClean3.groupby(publicationsClean3['date'].dt.year)[\"date\"].count().plot.line()"
   ]
  },
  {
   "cell_type": "markdown",
   "metadata": {},
   "source": [
    "# Intermediate results\n",
    "\n",
    "* Numeric results\n",
    "    * How many publications of each researcher are in the data? Is this the same number than the column ``document-count``?\n",
    "    * How many authors have each publication? (show 5)\n",
    "    * What is the average number of authors in a publication?\n",
    "    * What is the average number of pages in a publication depending of the publication type?\n",
    "    * What is the average number of citations in a publication depending of the publication type?\n",
    "    * How many years each researcher have been active? (difference between the publciationDate of the oldest and newest publications)\n",
    "* Graphic results\n",
    "    * Histogram of the number of researchers by the number of active years\n",
    "    * Histogram of the number of authors in a publication\n",
    "    * Scatter plot of the publication year vs the number of citations\n",
    "    * Chart of the average number of citations depending on the publication type\n",
    "    * Chart of the average number of pages depending on the publication type\n",
    "\n",
    "**Choose 5 questions from the list and answer each in a different cell.**"
   ]
  },
  {
   "cell_type": "code",
   "execution_count": null,
   "metadata": {},
   "outputs": [],
   "source": [
    "data.groupby(data['auth_id'])['auth_id'].count()  #Nºpubs/researcher\n",
    "#data[data[\"auth_id\"]==6503890565] No Coincide"
   ]
  },
  {
   "cell_type": "code",
   "execution_count": null,
   "metadata": {},
   "outputs": [],
   "source": [
    "data.groupby(data['auth_id']).first()[data.groupby(data['auth_id'])['auth_id'].count() != data.groupby(data['auth_id'])['publications'].first()]"
   ]
  },
  {
   "cell_type": "code",
   "execution_count": null,
   "metadata": {},
   "outputs": [],
   "source": [
    "def ret_five(x):\n",
    "    if x is None or len(x)<5:\n",
    "        if x:\n",
    "            print(len(x),x)\n",
    "            #return\n",
    "        #return \n",
    "    else:\n",
    "        print(len(x),[x[0],x[1],x[2],x[3],x[4]])\n",
    "        #return \n",
    "publicationsClean3['authors'].apply(ret_five)\n"
   ]
  },
  {
   "cell_type": "code",
   "execution_count": null,
   "metadata": {},
   "outputs": [],
   "source": [
    "def ret_count(x):\n",
    "    if x is None:\n",
    "        return 0\n",
    "    else:\n",
    "        return len(x)\n",
    "publicationsClean3.authors.apply(ret_count).mean()"
   ]
  },
  {
   "cell_type": "code",
   "execution_count": null,
   "metadata": {},
   "outputs": [],
   "source": [
    "fig, ax = plt.subplots(figsize=(7,5))\n",
    "ax.hist(publicationsClean3.authors.apply(ret_count))\n",
    "plt.show(fig)"
   ]
  },
  {
   "cell_type": "code",
   "execution_count": null,
   "metadata": {},
   "outputs": [],
   "source": [
    "publicationsClean3.groupby('type').cited_count.mean()"
   ]
  },
  {
   "cell_type": "markdown",
   "metadata": {},
   "source": [
    "## Advanced results\n",
    "\n",
    "The most difficult questions to answer usually are a small set which needs more explanation than a single line.\n",
    "\n",
    "* Coauthor: \n",
    "    One researcher is coatuhor with other if both appears as author in at least one publication. \n",
    "    * What is the average number of different coauthors of each researcher?\n",
    "    * How is the most frequent coauthor (their id) of each researcher?\n",
    "\n",
    "\n",
    "* H-index: \n",
    "    The h-index (https://en.wikipedia.org/wiki/H-index) is a metric that tries to describe the impact of a researcher based on the number of citations received in each publication. A researcher has a h-index of `n` if she has at least `n` publications with `n` or more citations.\n",
    "\n",
    "    * What is the h-index of each researcher?\n",
    "    * Chart of the publications and number of citations of a certain researcher, highlinting (in a different color) which publications contributed to the h-index\n",
    "\n",
    "![alt text](img/h-index.svg \"H-Index\")\n",
    "\n",
    "**Choose 1 group and solve it.**"
   ]
  },
  {
   "cell_type": "code",
   "execution_count": null,
   "metadata": {},
   "outputs": [],
   "source": [
    "index_H = {}\n",
    "for authID, group in data.groupby(\"auth_id\"):\n",
    "    #print(group[\"cited_count\"])\n",
    "    i = 1\n",
    "    while True:\n",
    "        cnt = 0\n",
    "    #print(\"HOAL\",authID,group[\"cited_count\"])\n",
    "        for cite in group[\"cited_count\"]:\n",
    "            if cite >= i:\n",
    "                cnt+=1\n",
    "        if cnt >= i:\n",
    "            i+=1\n",
    "        else:\n",
    "            index_H[authID]=i-1\n",
    "            break\n"
   ]
  },
  {
   "cell_type": "code",
   "execution_count": null,
   "metadata": {},
   "outputs": [],
   "source": [
    "#6504374283: 8\n",
    "authID = 6504374283\n",
    "gteHIndex = []\n",
    "gteIndex = []\n",
    "ltHIndex = []\n",
    "ltIndex = []\n",
    "def getPubHIndex(x,HIndex):\n",
    "    if x >= HIndex:\n",
    "        gteHIndex.append(x)\n",
    "    else:\n",
    "        ltHIndex.append(x)\n",
    "data[data[\"auth_id\"]==authID][\"cited_count\"].apply(getPubHIndex, HIndex=index_H[authID])\n",
    "gteHIndex.sort(reverse=True)\n",
    "ltHIndex.sort(reverse=True)\n",
    "for i in range(len(gteHIndex)):\n",
    "    gteIndex.append(i+1)\n",
    "for j in range(len(ltHIndex)):\n",
    "    ltIndex.append(j+1+len(gteHIndex))\n",
    "fig, ax = plt.subplots(figsize=(7,5))\n",
    "ax.bar(gteIndex,gteHIndex,color='g')\n",
    "ax.bar(ltIndex,ltHIndex,color='r')\n",
    "ax.set_xlabel(\"Publications\")\n",
    "ax.set_ylabel(\"Cites\")\n",
    "ax.set_title(\"H-Index = \" + str(index_H[authID]))\n",
    "plt.show(fig)"
   ]
  }
 ],
 "metadata": {
  "kernelspec": {
   "display_name": "Python 3",
   "language": "python",
   "name": "python3"
  },
  "language_info": {
   "codemirror_mode": {
    "name": "ipython",
    "version": 3
   },
   "file_extension": ".py",
   "mimetype": "text/x-python",
   "name": "python",
   "nbconvert_exporter": "python",
   "pygments_lexer": "ipython3",
   "version": "3.6.9"
  }
 },
 "nbformat": 4,
 "nbformat_minor": 2
}
