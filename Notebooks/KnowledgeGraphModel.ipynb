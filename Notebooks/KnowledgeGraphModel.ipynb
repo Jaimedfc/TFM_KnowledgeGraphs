{
 "cells": [
  {
   "cell_type": "code",
   "execution_count": 1,
   "metadata": {},
   "outputs": [],
   "source": [
    "import numpy as np\n",
    "import pandas as pd\n",
    "import ampligraph"
   ]
  },
  {
   "cell_type": "code",
   "execution_count": 2,
   "metadata": {},
   "outputs": [
    {
     "data": {
      "text/plain": [
       "'1.2.0'"
      ]
     },
     "execution_count": 2,
     "metadata": {},
     "output_type": "execute_result"
    }
   ],
   "source": [
    "ampligraph.__version__"
   ]
  },
  {
   "cell_type": "code",
   "execution_count": 3,
   "metadata": {},
   "outputs": [],
   "source": [
    "df = pd.read_pickle(\"../Data/cleanDataset.pkl\")"
   ]
  },
  {
   "cell_type": "code",
   "execution_count": 5,
   "metadata": {},
   "outputs": [
    {
     "data": {
      "text/html": [
       "<div>\n",
       "<style scoped>\n",
       "    .dataframe tbody tr th:only-of-type {\n",
       "        vertical-align: middle;\n",
       "    }\n",
       "\n",
       "    .dataframe tbody tr th {\n",
       "        vertical-align: top;\n",
       "    }\n",
       "\n",
       "    .dataframe thead th {\n",
       "        text-align: right;\n",
       "    }\n",
       "</style>\n",
       "<table border=\"1\" class=\"dataframe\">\n",
       "  <thead>\n",
       "    <tr style=\"text-align: right;\">\n",
       "      <th></th>\n",
       "      <th>ECG</th>\n",
       "      <th>EMG</th>\n",
       "      <th>EDA</th>\n",
       "      <th>TEMP</th>\n",
       "      <th>RESP</th>\n",
       "      <th>Sujeto</th>\n",
       "      <th>label</th>\n",
       "    </tr>\n",
       "  </thead>\n",
       "  <tbody>\n",
       "    <tr>\n",
       "      <th>18342198</th>\n",
       "      <td>-0.072922</td>\n",
       "      <td>-0.001968</td>\n",
       "      <td>5.282974</td>\n",
       "      <td>33.180786</td>\n",
       "      <td>1.466370</td>\n",
       "      <td>S17</td>\n",
       "      <td>1</td>\n",
       "    </tr>\n",
       "    <tr>\n",
       "      <th>7870939</th>\n",
       "      <td>0.139023</td>\n",
       "      <td>-0.000046</td>\n",
       "      <td>6.993103</td>\n",
       "      <td>34.949463</td>\n",
       "      <td>1.976013</td>\n",
       "      <td>S5</td>\n",
       "      <td>4</td>\n",
       "    </tr>\n",
       "    <tr>\n",
       "      <th>148517</th>\n",
       "      <td>-0.056534</td>\n",
       "      <td>0.000778</td>\n",
       "      <td>2.931976</td>\n",
       "      <td>34.154999</td>\n",
       "      <td>-2.503967</td>\n",
       "      <td>S13</td>\n",
       "      <td>4</td>\n",
       "    </tr>\n",
       "    <tr>\n",
       "      <th>7365360</th>\n",
       "      <td>-0.199127</td>\n",
       "      <td>-0.007965</td>\n",
       "      <td>5.479431</td>\n",
       "      <td>33.511169</td>\n",
       "      <td>-1.211548</td>\n",
       "      <td>S17</td>\n",
       "      <td>1</td>\n",
       "    </tr>\n",
       "    <tr>\n",
       "      <th>27967559</th>\n",
       "      <td>0.023483</td>\n",
       "      <td>0.004990</td>\n",
       "      <td>4.878235</td>\n",
       "      <td>34.518951</td>\n",
       "      <td>-16.859436</td>\n",
       "      <td>S13</td>\n",
       "      <td>2</td>\n",
       "    </tr>\n",
       "    <tr>\n",
       "      <th>...</th>\n",
       "      <td>...</td>\n",
       "      <td>...</td>\n",
       "      <td>...</td>\n",
       "      <td>...</td>\n",
       "      <td>...</td>\n",
       "      <td>...</td>\n",
       "      <td>...</td>\n",
       "    </tr>\n",
       "    <tr>\n",
       "      <th>4297257</th>\n",
       "      <td>-0.019592</td>\n",
       "      <td>-0.015930</td>\n",
       "      <td>5.331421</td>\n",
       "      <td>33.415985</td>\n",
       "      <td>-1.885986</td>\n",
       "      <td>S17</td>\n",
       "      <td>1</td>\n",
       "    </tr>\n",
       "    <tr>\n",
       "      <th>29972115</th>\n",
       "      <td>-0.023209</td>\n",
       "      <td>0.004349</td>\n",
       "      <td>7.131958</td>\n",
       "      <td>32.893768</td>\n",
       "      <td>2.793884</td>\n",
       "      <td>S3</td>\n",
       "      <td>4</td>\n",
       "    </tr>\n",
       "    <tr>\n",
       "      <th>25930291</th>\n",
       "      <td>-0.017395</td>\n",
       "      <td>0.002335</td>\n",
       "      <td>3.726578</td>\n",
       "      <td>35.077606</td>\n",
       "      <td>1.390076</td>\n",
       "      <td>S8</td>\n",
       "      <td>4</td>\n",
       "    </tr>\n",
       "    <tr>\n",
       "      <th>28303972</th>\n",
       "      <td>-0.030624</td>\n",
       "      <td>-0.014236</td>\n",
       "      <td>3.686905</td>\n",
       "      <td>34.795380</td>\n",
       "      <td>-1.704407</td>\n",
       "      <td>S5</td>\n",
       "      <td>1</td>\n",
       "    </tr>\n",
       "    <tr>\n",
       "      <th>22410043</th>\n",
       "      <td>0.009476</td>\n",
       "      <td>-0.000916</td>\n",
       "      <td>4.503250</td>\n",
       "      <td>28.964386</td>\n",
       "      <td>-1.405334</td>\n",
       "      <td>S2</td>\n",
       "      <td>1</td>\n",
       "    </tr>\n",
       "  </tbody>\n",
       "</table>\n",
       "<p>9441181 rows × 7 columns</p>\n",
       "</div>"
      ],
      "text/plain": [
       "               ECG       EMG       EDA       TEMP       RESP Sujeto  label\n",
       "18342198 -0.072922 -0.001968  5.282974  33.180786   1.466370    S17      1\n",
       "7870939   0.139023 -0.000046  6.993103  34.949463   1.976013     S5      4\n",
       "148517   -0.056534  0.000778  2.931976  34.154999  -2.503967    S13      4\n",
       "7365360  -0.199127 -0.007965  5.479431  33.511169  -1.211548    S17      1\n",
       "27967559  0.023483  0.004990  4.878235  34.518951 -16.859436    S13      2\n",
       "...            ...       ...       ...        ...        ...    ...    ...\n",
       "4297257  -0.019592 -0.015930  5.331421  33.415985  -1.885986    S17      1\n",
       "29972115 -0.023209  0.004349  7.131958  32.893768   2.793884     S3      4\n",
       "25930291 -0.017395  0.002335  3.726578  35.077606   1.390076     S8      4\n",
       "28303972 -0.030624 -0.014236  3.686905  34.795380  -1.704407     S5      1\n",
       "22410043  0.009476 -0.000916  4.503250  28.964386  -1.405334     S2      1\n",
       "\n",
       "[9441181 rows x 7 columns]"
      ]
     },
     "execution_count": 5,
     "metadata": {},
     "output_type": "execute_result"
    }
   ],
   "source": [
    "from sklearn.model_selection import train_test_split\n",
    "unused, reduceddf = train_test_split(df, test_size=0.3)\n"
   ]
  },
  {
   "cell_type": "code",
   "execution_count": 6,
   "metadata": {},
   "outputs": [
    {
     "data": {
      "text/plain": [
       "pandas.core.frame.DataFrame"
      ]
     },
     "execution_count": 6,
     "metadata": {},
     "output_type": "execute_result"
    }
   ],
   "source": [
    "type(reduceddf)"
   ]
  },
  {
   "cell_type": "code",
   "execution_count": 9,
   "metadata": {},
   "outputs": [
    {
     "name": "stderr",
     "output_type": "stream",
     "text": [
      "/home/jaime/.local/lib/python3.6/site-packages/ipykernel_launcher.py:1: SettingWithCopyWarning: \n",
      "A value is trying to be set on a copy of a slice from a DataFrame.\n",
      "Try using .loc[row_indexer,col_indexer] = value instead\n",
      "\n",
      "See the caveats in the documentation: https://pandas.pydata.org/pandas-docs/stable/user_guide/indexing.html#returning-a-view-versus-a-copy\n",
      "  \"\"\"Entry point for launching an IPython kernel.\n"
     ]
    }
   ],
   "source": [
    "reduceddf[\"train\"] = reduceddf.Sujeto > \"S14\""
   ]
  },
  {
   "cell_type": "code",
   "execution_count": 10,
   "metadata": {},
   "outputs": [
    {
     "data": {
      "text/plain": [
       "True     6894919\n",
       "False    2546262\n",
       "Name: train, dtype: int64"
      ]
     },
     "execution_count": 10,
     "metadata": {},
     "output_type": "execute_result"
    }
   ],
   "source": [
    "reduceddf.train.value_counts()"
   ]
  },
  {
   "cell_type": "code",
   "execution_count": 16,
   "metadata": {},
   "outputs": [
    {
     "data": {
      "text/html": [
       "<div>\n",
       "<style scoped>\n",
       "    .dataframe tbody tr th:only-of-type {\n",
       "        vertical-align: middle;\n",
       "    }\n",
       "\n",
       "    .dataframe tbody tr th {\n",
       "        vertical-align: top;\n",
       "    }\n",
       "\n",
       "    .dataframe thead th {\n",
       "        text-align: right;\n",
       "    }\n",
       "</style>\n",
       "<table border=\"1\" class=\"dataframe\">\n",
       "  <thead>\n",
       "    <tr style=\"text-align: right;\">\n",
       "      <th></th>\n",
       "      <th>ECG</th>\n",
       "      <th>EMG</th>\n",
       "      <th>EDA</th>\n",
       "      <th>TEMP</th>\n",
       "      <th>RESP</th>\n",
       "      <th>Sujeto</th>\n",
       "      <th>label</th>\n",
       "      <th>train</th>\n",
       "    </tr>\n",
       "  </thead>\n",
       "  <tbody>\n",
       "    <tr>\n",
       "      <th>64564</th>\n",
       "      <td>-0.014648</td>\n",
       "      <td>-0.001968</td>\n",
       "      <td>5.543137</td>\n",
       "      <td>32.567444</td>\n",
       "      <td>2.757263</td>\n",
       "      <td>S17</td>\n",
       "      <td>1</td>\n",
       "      <td>True</td>\n",
       "    </tr>\n",
       "    <tr>\n",
       "      <th>64565</th>\n",
       "      <td>-0.001236</td>\n",
       "      <td>-0.005539</td>\n",
       "      <td>5.542755</td>\n",
       "      <td>32.567444</td>\n",
       "      <td>2.742004</td>\n",
       "      <td>S17</td>\n",
       "      <td>1</td>\n",
       "      <td>True</td>\n",
       "    </tr>\n",
       "    <tr>\n",
       "      <th>64566</th>\n",
       "      <td>0.007278</td>\n",
       "      <td>0.017761</td>\n",
       "      <td>5.556107</td>\n",
       "      <td>32.561493</td>\n",
       "      <td>2.603149</td>\n",
       "      <td>S17</td>\n",
       "      <td>1</td>\n",
       "      <td>True</td>\n",
       "    </tr>\n",
       "    <tr>\n",
       "      <th>64567</th>\n",
       "      <td>0.009201</td>\n",
       "      <td>0.032181</td>\n",
       "      <td>5.558014</td>\n",
       "      <td>32.559998</td>\n",
       "      <td>2.749634</td>\n",
       "      <td>S17</td>\n",
       "      <td>1</td>\n",
       "      <td>True</td>\n",
       "    </tr>\n",
       "    <tr>\n",
       "      <th>64568</th>\n",
       "      <td>0.007141</td>\n",
       "      <td>-0.011032</td>\n",
       "      <td>5.564117</td>\n",
       "      <td>32.558502</td>\n",
       "      <td>2.760315</td>\n",
       "      <td>S17</td>\n",
       "      <td>1</td>\n",
       "      <td>True</td>\n",
       "    </tr>\n",
       "    <tr>\n",
       "      <th>...</th>\n",
       "      <td>...</td>\n",
       "      <td>...</td>\n",
       "      <td>...</td>\n",
       "      <td>...</td>\n",
       "      <td>...</td>\n",
       "      <td>...</td>\n",
       "      <td>...</td>\n",
       "      <td>...</td>\n",
       "    </tr>\n",
       "    <tr>\n",
       "      <th>4111478</th>\n",
       "      <td>-0.182602</td>\n",
       "      <td>-0.015793</td>\n",
       "      <td>0.484085</td>\n",
       "      <td>31.926239</td>\n",
       "      <td>-1.609802</td>\n",
       "      <td>S2</td>\n",
       "      <td>4</td>\n",
       "      <td>True</td>\n",
       "    </tr>\n",
       "    <tr>\n",
       "      <th>4111479</th>\n",
       "      <td>-0.170609</td>\n",
       "      <td>0.000687</td>\n",
       "      <td>0.473404</td>\n",
       "      <td>31.932190</td>\n",
       "      <td>-1.646423</td>\n",
       "      <td>S2</td>\n",
       "      <td>4</td>\n",
       "      <td>True</td>\n",
       "    </tr>\n",
       "    <tr>\n",
       "      <th>4111480</th>\n",
       "      <td>-0.160812</td>\n",
       "      <td>0.004532</td>\n",
       "      <td>0.463486</td>\n",
       "      <td>31.918823</td>\n",
       "      <td>-1.643372</td>\n",
       "      <td>S2</td>\n",
       "      <td>4</td>\n",
       "      <td>True</td>\n",
       "    </tr>\n",
       "    <tr>\n",
       "      <th>4111481</th>\n",
       "      <td>-0.156326</td>\n",
       "      <td>0.000595</td>\n",
       "      <td>0.459290</td>\n",
       "      <td>31.932190</td>\n",
       "      <td>-1.661682</td>\n",
       "      <td>S2</td>\n",
       "      <td>4</td>\n",
       "      <td>True</td>\n",
       "    </tr>\n",
       "    <tr>\n",
       "      <th>4111482</th>\n",
       "      <td>-0.154312</td>\n",
       "      <td>-0.009201</td>\n",
       "      <td>0.455475</td>\n",
       "      <td>31.927704</td>\n",
       "      <td>-1.646423</td>\n",
       "      <td>S2</td>\n",
       "      <td>4</td>\n",
       "      <td>True</td>\n",
       "    </tr>\n",
       "  </tbody>\n",
       "</table>\n",
       "<p>31470603 rows × 8 columns</p>\n",
       "</div>"
      ],
      "text/plain": [
       "              ECG       EMG       EDA       TEMP      RESP Sujeto  label  \\\n",
       "64564   -0.014648 -0.001968  5.543137  32.567444  2.757263    S17      1   \n",
       "64565   -0.001236 -0.005539  5.542755  32.567444  2.742004    S17      1   \n",
       "64566    0.007278  0.017761  5.556107  32.561493  2.603149    S17      1   \n",
       "64567    0.009201  0.032181  5.558014  32.559998  2.749634    S17      1   \n",
       "64568    0.007141 -0.011032  5.564117  32.558502  2.760315    S17      1   \n",
       "...           ...       ...       ...        ...       ...    ...    ...   \n",
       "4111478 -0.182602 -0.015793  0.484085  31.926239 -1.609802     S2      4   \n",
       "4111479 -0.170609  0.000687  0.473404  31.932190 -1.646423     S2      4   \n",
       "4111480 -0.160812  0.004532  0.463486  31.918823 -1.643372     S2      4   \n",
       "4111481 -0.156326  0.000595  0.459290  31.932190 -1.661682     S2      4   \n",
       "4111482 -0.154312 -0.009201  0.455475  31.927704 -1.646423     S2      4   \n",
       "\n",
       "         train  \n",
       "64564     True  \n",
       "64565     True  \n",
       "64566     True  \n",
       "64567     True  \n",
       "64568     True  \n",
       "...        ...  \n",
       "4111478   True  \n",
       "4111479   True  \n",
       "4111480   True  \n",
       "4111481   True  \n",
       "4111482   True  \n",
       "\n",
       "[31470603 rows x 8 columns]"
      ]
     },
     "execution_count": 16,
     "metadata": {},
     "output_type": "execute_result"
    }
   ],
   "source": [
    "df"
   ]
  },
  {
   "cell_type": "code",
   "execution_count": 20,
   "metadata": {},
   "outputs": [],
   "source": [
    "df[\"data_id\"] = df.index.values.astype(str)\n",
    "df[\"data_id\"] = \"Dato\" + df.data_id\n",
    "df[\"subject_id\"] = df.Sujeto.values.astype(str)"
   ]
  },
  {
   "cell_type": "code",
   "execution_count": null,
   "metadata": {},
   "outputs": [],
   "source": [
    "triples = []\n",
    "for _, row in df[df[\"train\"]].iterrows():\n",
    "    # Data info\n",
    "    ecg_triple = (row[\"ECG\"], \"isECGDataIn\", row[\"data_id\"])\n",
    "    emg_triple = (row[\"EMG\"], \"isEMGDataIn\", row[\"data_id\"])\n",
    "    eda_triple = (row[\"EDA\"], \"isEDADataIn\", row[\"data_id\"])\n",
    "    temp_triple = (row[\"TEMP\"], \"isTEMPDataIn\", row[\"data_id\"])\n",
    "    resp_triple = (row[\"RESP\"], \"isRESPDataIn\", row[\"data_id\"])\n",
    "    \n",
    "    # Stress results\n",
    "    if row[\"label\"] == 1:\n",
    "        label_triple = (row[\"data_id\"], \"ShowsAStateOf\", \"Baseline\")\n",
    "    elif row[\"label\"] == 2:\n",
    "        label_triple = (row[\"data_id\"], \"FeelingOfData\", \"Stress\")\n",
    "    elif row[\"label\"] == 3:\n",
    "        label_triple = (row[\"data_id\"], \"FeelingOfData\", \"Amusement\")\n",
    "    elif row[\"label\"] == 4:\n",
    "        label_triple = (row[\"data_id\"], \"FeelingOfData\", \"Meditaion\")\n",
    "    \n",
    "    suj_triple = (row[\"data_id\"], \"isProducedBy\", row[\"subject_id\"])\n",
    "    \n",
    "    triples.extend((ecg_triple, emg_triple, eda_triple, temp_triple, \n",
    "                    resp_triple, label_triple, suj_triple))"
   ]
  },
  {
   "cell_type": "code",
   "execution_count": null,
   "metadata": {},
   "outputs": [],
   "source": [
    "triples_df = pd.DataFrame(triples, columns=[\"subject\", \"predicate\", \"object\"])\n",
    "triples_df[(triples_df.subject==\"Dato64566\") | (triples_df.object==\"Dato64566\")]"
   ]
  },
  {
   "cell_type": "code",
   "execution_count": null,
   "metadata": {},
   "outputs": [],
   "source": [
    "from ampligraph.evaluation import train_test_split_no_unseen \n",
    "\n",
    "X_train, X_valid = train_test_split_no_unseen(np.array(triples), test_size=10000)\n",
    "print('Train set size: ', X_train.shape)\n",
    "print('Test set size: ', X_valid.shape)"
   ]
  },
  {
   "cell_type": "code",
   "execution_count": null,
   "metadata": {},
   "outputs": [],
   "source": [
    "from ampligraph.latent_features import ComplEx\n",
    "\n",
    "model = ComplEx(batches_count=50,\n",
    "                epochs=300,\n",
    "                k=100,\n",
    "                eta=20,\n",
    "                optimizer='adam', \n",
    "                optimizer_params={'lr':1e-4},\n",
    "                loss='multiclass_nll',\n",
    "                regularizer='LP', \n",
    "                regularizer_params={'p':3, 'lambda':1e-5}, \n",
    "                seed=0, \n",
    "                verbose=True)"
   ]
  },
  {
   "cell_type": "code",
   "execution_count": null,
   "metadata": {},
   "outputs": [],
   "source": [
    "import tensorflow as tf\n",
    "tf.logging.set_verbosity(tf.logging.ERROR)\n",
    "\n",
    "model.fit(X_train)"
   ]
  },
  {
   "cell_type": "code",
   "execution_count": null,
   "metadata": {},
   "outputs": [],
   "source": [
    "from ampligraph.utils import save_model\n",
    "\n",
    "save_model(model, model_name_path = \"../Data/KGmodel.pkl\")"
   ]
  }
 ],
 "metadata": {
  "kernelspec": {
   "display_name": "Python 3",
   "language": "python",
   "name": "python3"
  },
  "language_info": {
   "codemirror_mode": {
    "name": "ipython",
    "version": 3
   },
   "file_extension": ".py",
   "mimetype": "text/x-python",
   "name": "python",
   "nbconvert_exporter": "python",
   "pygments_lexer": "ipython3",
   "version": "3.6.9"
  }
 },
 "nbformat": 4,
 "nbformat_minor": 2
}
