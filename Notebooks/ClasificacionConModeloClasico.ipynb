{
 "cells": [
  {
   "cell_type": "markdown",
   "metadata": {},
   "source": [
    "## Modelo de Clasificación sin pasar por KG"
   ]
  },
  {
   "cell_type": "code",
   "execution_count": 12,
   "metadata": {},
   "outputs": [],
   "source": [
    "import numpy as np\n",
    "import pandas as pd\n",
    "from ampligraph.utils import restore_model\n",
    "from sklearn import metrics\n",
    "from xgboost import XGBClassifier\n",
    "\n",
    "df = pd.read_pickle(\"../Data/reducedDataset001.pkl\")\n",
    "df[\"train\"] = df.Sujeto > \"S14\"\n",
    "model = restore_model(\"../Data/KGEmbedModel004.pkl\")\n",
    "\n",
    "df.Sujeto = df.Sujeto.values.astype(str)\n",
    "df.Sujeto = df.Sujeto.str.replace(\"S\",\"\")\n",
    "df.Sujeto = df.Sujeto.values.astype(np.int64)"
   ]
  },
  {
   "cell_type": "code",
   "execution_count": 13,
   "metadata": {},
   "outputs": [],
   "source": [
    "x_train = df[df[\"train\"]][[\"ECG\", \"EMG\", \"EDA\", \"TEMP\", \"RESP\", \"Sujeto\"]].values\n",
    "y_train = df[df[\"train\"]][\"label\"].values\n",
    "x_test = df[~df[\"train\"]][[\"ECG\", \"EMG\", \"EDA\", \"TEMP\", \"RESP\", \"Sujeto\"]].values\n",
    "y_test = df[~df[\"train\"]][\"label\"].values"
   ]
  },
  {
   "cell_type": "code",
   "execution_count": 14,
   "metadata": {},
   "outputs": [
    {
     "data": {
      "text/plain": [
       "XGBClassifier(base_score=0.5, booster=None, colsample_bylevel=1,\n",
       "              colsample_bynode=1, colsample_bytree=1, gamma=0, gpu_id=-1,\n",
       "              importance_type='gain', interaction_constraints=None,\n",
       "              learning_rate=0.300000012, max_delta_step=0, max_depth=15,\n",
       "              min_child_weight=1, missing=nan, monotone_constraints=None,\n",
       "              n_estimators=1000, n_jobs=0, num_parallel_tree=1,\n",
       "              objective='multi:softprob', random_state=0, reg_alpha=0,\n",
       "              reg_lambda=1, scale_pos_weight=None, subsample=1,\n",
       "              tree_method=None, validate_parameters=False, verbosity=None)"
      ]
     },
     "execution_count": 14,
     "metadata": {},
     "output_type": "execute_result"
    }
   ],
   "source": [
    "clf_model = XGBClassifier(n_estimators=1000, max_depth=15, objective=\"multi:softmax\")\n",
    "clf_model.fit(x_train, y_train)"
   ]
  },
  {
   "cell_type": "code",
   "execution_count": 15,
   "metadata": {},
   "outputs": [
    {
     "name": "stdout",
     "output_type": "stream",
     "text": [
      "              precision    recall  f1-score   support\n",
      "\n",
      "           1       0.80      0.72      0.76      3246\n",
      "           2       0.25      0.08      0.12      1877\n",
      "           3       0.17      0.07      0.10      1004\n",
      "           4       0.36      0.71      0.48      2250\n",
      "\n",
      "    accuracy                           0.50      8377\n",
      "   macro avg       0.40      0.40      0.36      8377\n",
      "weighted avg       0.48      0.50      0.46      8377\n",
      "\n",
      "[[2344    5  336  561]\n",
      " [  49  149    0 1679]\n",
      " [ 255   76   70  603]\n",
      " [ 280  372    0 1598]]\n"
     ]
    }
   ],
   "source": [
    "prediction = clf_model.predict(x_test)\n",
    "print(metrics.classification_report(y_test, prediction))\n",
    "print(metrics.confusion_matrix(y_test, prediction))"
   ]
  },
  {
   "cell_type": "code",
   "execution_count": null,
   "metadata": {},
   "outputs": [],
   "source": []
  }
 ],
 "metadata": {
  "kernelspec": {
   "display_name": "Python 3",
   "language": "python",
   "name": "python3"
  },
  "language_info": {
   "codemirror_mode": {
    "name": "ipython",
    "version": 3
   },
   "file_extension": ".py",
   "mimetype": "text/x-python",
   "name": "python",
   "nbconvert_exporter": "python",
   "pygments_lexer": "ipython3",
   "version": "3.6.9"
  }
 },
 "nbformat": 4,
 "nbformat_minor": 2
}
